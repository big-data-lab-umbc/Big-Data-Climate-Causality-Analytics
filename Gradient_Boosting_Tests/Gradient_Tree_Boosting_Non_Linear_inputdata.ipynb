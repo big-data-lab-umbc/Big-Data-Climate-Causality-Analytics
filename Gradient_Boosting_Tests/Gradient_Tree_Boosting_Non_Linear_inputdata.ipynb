{
  "nbformat": 4,
  "nbformat_minor": 0,
  "metadata": {
    "colab": {
      "name": "GradientBoosting_test_Non-Linear_inputdata.ipynb",
      "version": "0.3.2",
      "provenance": [],
      "collapsed_sections": [
        "JajfvsxVA7N3"
      ],
      "toc_visible": true
    },
    "kernelspec": {
      "name": "python3",
      "display_name": "Python 3"
    }
  },
  "cells": [
    {
      "cell_type": "markdown",
      "metadata": {
        "id": "ur8RZ9sVt1_I",
        "colab_type": "text"
      },
      "source": [
        "# Import Library"
      ]
    },
    {
      "cell_type": "code",
      "metadata": {
        "id": "SD5M5TQUO6pc",
        "colab_type": "code",
        "colab": {}
      },
      "source": [
        "import sklearn\n",
        "sklearn.__version__\n",
        "import scipy\n",
        "\n",
        "import numpy as np\n",
        "import pandas as pd\n",
        "from sklearn.tree import DecisionTreeRegressor\n",
        "import matplotlib.pyplot as plt\n",
        "from sklearn.metrics import mean_squared_error,r2_score,explained_variance_score\n",
        "from graphviz import Digraph"
      ],
      "execution_count": 0,
      "outputs": []
    },
    {
      "cell_type": "markdown",
      "metadata": {
        "id": "u1CEDBACuIEx",
        "colab_type": "text"
      },
      "source": [
        "# Conditional Causality\n"
      ]
    },
    {
      "cell_type": "markdown",
      "metadata": {
        "id": "GO0xxPlYQRXy",
        "colab_type": "text"
      },
      "source": [
        "## Input Data and Graph name change"
      ]
    },
    {
      "cell_type": "code",
      "metadata": {
        "id": "B8h_CcefQOW9",
        "colab_type": "code",
        "colab": {}
      },
      "source": [
        "df = pd.read_csv(\"combined-nonlinear.csv\", header='infer')\n",
        "# g = Digraph('G', filename='boosting_causality.gv', strict=True)\n",
        "n = df.shape[0]\n",
        "k = df.shape[1]"
      ],
      "execution_count": 0,
      "outputs": []
    },
    {
      "cell_type": "markdown",
      "metadata": {
        "id": "wP7y39bOQUuV",
        "colab_type": "text"
      },
      "source": [
        "## Functions: regression, boosting, causality_test"
      ]
    },
    {
      "cell_type": "code",
      "metadata": {
        "id": "_O5DoyVoI2C6",
        "colab_type": "code",
        "colab": {}
      },
      "source": [
        "def regression(df, x_name, y_name, maxlag):\n",
        "    data = df\n",
        "    df_list = []     \n",
        "    \n",
        "    v = 0.01\n",
        "    # add lagged columns of current x variable as x_name\n",
        "    for lag in range(1,maxlag+1):\n",
        "        data['{}_{}'.format(x_name,str(lag))] = data['{}'.format(x_name)].shift(lag)\n",
        "        df_list.append(data['{}_{}'.format(x_name,str(lag))])\n",
        "\n",
        "    # create test dataframe X, and y\n",
        "    X = pd.concat(df_list,axis = 1)  \n",
        "    y = data[y_name]\n",
        "\n",
        "    # remove NaN rows, the number of removal is maxlag\n",
        "    X = X.iloc[maxlag:]\n",
        "    y = y.iloc[maxlag:]\n",
        "#     print(y)\n",
        "    print(\"y is \")\n",
        "    print(y_name)\n",
        "    print(\"X are\")\n",
        "    print(x_name)\n",
        "    # build regression reg_y, X→y\n",
        "    reg_y = DecisionTreeRegressor(random_state = 0, max_depth=8, min_samples_leaf=10)\n",
        "#     reg_y = DecisionTreeRegressor(random_state = 0)\n",
        "    # fit model using data X, y\n",
        "    reg_y.fit(X, y)\n",
        "    # check number of features\n",
        "#     print(reg_y.n_features_)\n",
        "    # check feature importance \n",
        "    print(reg_y.feature_importances_)\n",
        "\n",
        "#     print(reg_y.decision_path)\n",
        "    # y_hat is the predicted value of y\n",
        "    y_hat = reg_y.predict(X) \n",
        "\n",
        "    # save predicted y_hat as a pd dataframe and move its index to match the place in original df\n",
        "    y_hat_df = pd.DataFrame(y_hat)\n",
        "    y_hat_df.index += maxlag\n",
        "    # save the predicted value into dataframe\n",
        "    data['predicted_{}'.format(y_name)] = y_hat_df  \n",
        "\n",
        "    # compuate mse\n",
        "    reg_mse = mean_squared_error(y,y_hat)\n",
        "    # compute residual value of y, y-y_hat, the residual value is the y in next round of loop\n",
        "    if y_name == x_name:\n",
        "        # learning rate is not in model 0\n",
        "        y_residual = y - y_hat\n",
        "        # apply leraning rate\n",
        "    else:\n",
        "        y_residual = y - (y_hat * v)\n",
        "        \n",
        "    data[\"{}res{}\".format(y_name,x_name)] = y_residual\n",
        "\n",
        "    # print mse, r^2, variance\n",
        "    print(\"the mse is\")\n",
        "    print(reg_mse)\n",
        "    print(\"regression score is\")\n",
        "#     print(r2_score(data['{}'.format(y_name)].iloc[3:], data['predicted_{}'.format(y_name)].iloc[3:]))\n",
        "    # score is the r2_score, same results\n",
        "    print(reg_y.score(X,y))\n",
        "    r2 = reg_y.score(X,y)\n",
        "#     print(\"var_reg is\")\n",
        "  #   print(df['predicted_{}'.format(y_name)].var(ddof=0))\n",
        "#     var_reg = df['predicted_{}'.format(y_name)].var(ddof=0)  \n",
        "\n",
        "    #print explained_variance_score\n",
        "    print(\"explained_variance_score\")\n",
        "    variance_score = explained_variance_score(y,y_hat)\n",
        "    print(variance_score)\n",
        "\n",
        "#     print(data.head(10))\n",
        "    return reg_mse,reg_y.score(X,y),variance_score,r2\n",
        "\n",
        "\n",
        "def boosting(x_list, y_name, maxlag):\n",
        "  \n",
        "    # loop through each variable in the list\n",
        "    temp_y_name = y_name\n",
        "    mse_arr = []\n",
        "    r2_arr = []\n",
        "    \n",
        "    predicted_name_list = []\n",
        "    \n",
        "    for pivot_x in range(0,len(x_list)):\n",
        "        print(\"=========this is regression round {}=========\".format(pivot_x+1))\n",
        "\n",
        "        # save return value of regression in res_list\n",
        "        res_list = regression(df, x_list[pivot_x],y_name,3)  \n",
        "        \n",
        "        # save predicted column name as a list\n",
        "        predicted_name_list.append('predicted_{}'.format(y_name))\n",
        "        \n",
        "        # build y_name such as x1resx1, which means x1 substacts x1_hat, res means residual\n",
        "        y_name = str(y_name) +\"res\"+ str(x_list[pivot_x])\n",
        "        \n",
        "        # example: [0.7614110755692759, 0.6019695603895466, 0.4941602516989991, 0.36284165024184334]\n",
        "        mse_arr.append(res_list[0])\n",
        "        r2_arr.append(res_list[3])\n",
        "    \n",
        "    return mse_arr,predicted_name_list,r2_arr,maxlag\n",
        "\n",
        "\n",
        "def causality_test(boosting_result_list):\n",
        "    \n",
        "    mse_arr = boosting_result_list[0]\n",
        "    name_list = boosting_result_list[1]\n",
        "    r2_arr =  boosting_result_list[2]\n",
        "    maxlag = boosting_result_list[3]\n",
        "    \n",
        "    print('------------Causalilty Test Criterias------------')\n",
        "    \n",
        "    # mse_y means the mse to predict y using all other varaibles except for the causing variable\n",
        "\n",
        "    mse_y = mse_arr[len(mse_arr)-2]\n",
        "#     print(mse_arr[len(mse_arr)-1])\n",
        "    mse_all = mse_arr[len(mse_arr)-1]\n",
        "\n",
        "    print(\"mse before adding causing variable is \")\n",
        "    print(mse_y)\n",
        "    print(\"mse of all variables is\")\n",
        "    print(mse_all)\n",
        "    print(\"\\n!!!!!!!!!!!!!!!!!!!!!!!\")\n",
        "    print(\"change of mse (ratio)\")\n",
        "#     mse_change = mse_y/mse_all\n",
        "    mse_change = ((mse_y-mse_all)/(3-2))/(mse_all/(999-3))\n",
        "    \n",
        "    print(np.log(mse_change))\n",
        "    print(\"!!!!!!!!!!!!!!!!!!!!!!!\\n\")\n",
        "    \n",
        "    print(\"~~~~~~~~~~~~~~~~~\")\n",
        "    print(\"the F-score is\")\n",
        "    f_score = ((mse_y-mse_all)/mse_all)*((n-k*maxlag)/maxlag)\n",
        "    print(n-k*maxlag)\n",
        "    print(maxlag)\n",
        "    print(k*maxlag)\n",
        "    print(f_score)\n",
        "    p_value = scipy.stats.f.sf(f_score, maxlag, n-k*maxlag)\n",
        "    print(\"the p_value is\")\n",
        "    print(p_value)\n",
        "    print(\"~~~~~~~~~~~~~~~~~\")\n",
        "    \n",
        "    \n",
        "    df['pred_y'] = df[name_list[0]]\n",
        "    for key in range(1, len(name_list)):\n",
        "        df['pred_y'] += df[name_list[key]]\n",
        "\n",
        "    df['last_step'] = df['pred_y'] - df[name_list[len(name_list)-1]]\n",
        "\n",
        "    # df['step_3'] = df['predicted_x3'] + df['predicted_x3resx3'] + df['predicted_x3resx3resx4']\n",
        "\n",
        "    r2_y = r2_arr[len(r2_arr)-2]\n",
        "#     print(mse_arr[len(mse_arr)-1])\n",
        "    r2_all = r2_arr[len(r2_arr)-1]\n",
        "  \n",
        "    print(\"r_square_last is\")\n",
        "    print(r2_y)\n",
        "    print(\"r_square_final is \")\n",
        "    print(r2_all)\n",
        "    print(\"\\n!!!!!!!!!!!!!!!!!!!!!!!\")\n",
        "    print(\"r-square change\")\n",
        "    r_square_change = abs(r2_all-r2_y)/r2_y\n",
        "    print(r_square_change)\n",
        "    print(\"!!!!!!!!!!!!!!!!!!!!!!!\\n\")\n",
        "    \n",
        "    \n",
        "#     # draw graph if var_change >0.05  -- to do\n",
        "#     if var_change > 0.05:\n",
        "#         g.edge(,,label = \" {} \".format(temp_lag))\n",
        "\n",
        "    return name_list\n",
        "\n"
      ],
      "execution_count": 0,
      "outputs": []
    },
    {
      "cell_type": "markdown",
      "metadata": {
        "id": "75d_W1EGQd1I",
        "colab_type": "text"
      },
      "source": [
        "## Tests of causality should exist\n"
      ]
    },
    {
      "cell_type": "markdown",
      "metadata": {
        "id": "VEDz7_SxTbWG",
        "colab_type": "text"
      },
      "source": [
        "###: x1→x3|x4, x2\n",
        "\n",
        "mse stable   r2 not stable if change x4 x2 position\n",
        "\n",
        "0.36683870563049154"
      ]
    },
    {
      "cell_type": "code",
      "metadata": {
        "id": "ezEUMnBkQdMw",
        "colab_type": "code",
        "outputId": "426901ae-f3f9-44ee-ce63-32e5e15bd59f",
        "colab": {
          "base_uri": "https://localhost:8080/",
          "height": 1000
        }
      },
      "source": [
        "causality_test(boosting([\"x3\",\"x4\",\"x2\",\"x1\"], \"x3\", 3))\n",
        "# print(g)\n",
        "# print(g.view())\n",
        "# g"
      ],
      "execution_count": 16,
      "outputs": [
        {
          "output_type": "stream",
          "text": [
            "=========this is regression round 1=========\n",
            "y is \n",
            "x3\n",
            "X are\n",
            "x3\n",
            "[0.35730607 0.39614941 0.24654452]\n",
            "the mse is\n",
            "0.9535257455964228\n",
            "regression score is\n",
            "0.1478716027056236\n",
            "explained_variance_score\n",
            "0.1478716027056235\n",
            "=========this is regression round 2=========\n",
            "y is \n",
            "x3resx3\n",
            "X are\n",
            "x4\n",
            "[0.24142623 0.23311102 0.52546275]\n",
            "the mse is\n",
            "0.8244165683546292\n",
            "regression score is\n",
            "0.13540187859430775\n",
            "explained_variance_score\n",
            "0.13540187859430775\n",
            "=========this is regression round 3=========\n",
            "y is \n",
            "x3resx3resx4\n",
            "X are\n",
            "x2\n",
            "[0.32268388 0.3029345  0.37438162]\n",
            "the mse is\n",
            "0.79282985695766\n",
            "regression score is\n",
            "0.16628165484578838\n",
            "explained_variance_score\n",
            "0.16628165484578827\n",
            "=========this is regression round 4=========\n",
            "y is \n",
            "x3resx3resx4resx2\n",
            "X are\n",
            "x1\n",
            "[0.57143821 0.19699852 0.23156327]\n",
            "the mse is\n",
            "0.7537504415453963\n",
            "regression score is\n",
            "0.2047450040342358\n",
            "explained_variance_score\n",
            "0.2047450040342358\n",
            "------------Causalilty Test Criterias------------\n",
            "mse before adding causing variable is \n",
            "0.79282985695766\n",
            "mse of all variables is\n",
            "0.7537504415453963\n",
            "\n",
            "!!!!!!!!!!!!!!!!!!!!!!!\n",
            "change of mse (ratio)\n",
            "3.944281792063337\n",
            "!!!!!!!!!!!!!!!!!!!!!!!\n",
            "\n",
            "~~~~~~~~~~~~~~~~~\n",
            "the F-score is\n",
            "988\n",
            "3\n",
            "12\n",
            "17.074821364019993\n",
            "the p_value is\n",
            "8.12390590401617e-11\n",
            "~~~~~~~~~~~~~~~~~\n",
            "r_square_last is\n",
            "0.16628165484578838\n",
            "r_square_final is \n",
            "0.2047450040342358\n",
            "\n",
            "!!!!!!!!!!!!!!!!!!!!!!!\n",
            "r-square change\n",
            "0.23131444791139935\n",
            "!!!!!!!!!!!!!!!!!!!!!!!\n",
            "\n"
          ],
          "name": "stdout"
        },
        {
          "output_type": "execute_result",
          "data": {
            "text/plain": [
              "['predicted_x3',\n",
              " 'predicted_x3resx3',\n",
              " 'predicted_x3resx3resx4',\n",
              " 'predicted_x3resx3resx4resx2']"
            ]
          },
          "metadata": {
            "tags": []
          },
          "execution_count": 16
        }
      ]
    },
    {
      "cell_type": "markdown",
      "metadata": {
        "id": "2NSD_M2ETuCz",
        "colab_type": "text"
      },
      "source": [
        "### X2→x3\n",
        " change x1 x4 cause large difference between r2, mse similar\n",
        " \n",
        " 0.3127685509289654\n"
      ]
    },
    {
      "cell_type": "code",
      "metadata": {
        "id": "lxqm8K8hTw8j",
        "colab_type": "code",
        "outputId": "acadcd85-e160-42cc-9716-ec825f1f0c14",
        "colab": {
          "base_uri": "https://localhost:8080/",
          "height": 1000
        }
      },
      "source": [
        "causality_test(boosting([\"x3\",\"x4\",\"x1\",\"x2\"], \"x3\", 3))"
      ],
      "execution_count": 17,
      "outputs": [
        {
          "output_type": "stream",
          "text": [
            "=========this is regression round 1=========\n",
            "y is \n",
            "x3\n",
            "X are\n",
            "x3\n",
            "[0.35730607 0.39614941 0.24654452]\n",
            "the mse is\n",
            "0.9535257455964228\n",
            "regression score is\n",
            "0.1478716027056236\n",
            "explained_variance_score\n",
            "0.1478716027056235\n",
            "=========this is regression round 2=========\n",
            "y is \n",
            "x3resx3\n",
            "X are\n",
            "x4\n",
            "[0.24142623 0.23311102 0.52546275]\n",
            "the mse is\n",
            "0.8244165683546292\n",
            "regression score is\n",
            "0.13540187859430775\n",
            "explained_variance_score\n",
            "0.13540187859430775\n",
            "=========this is regression round 3=========\n",
            "y is \n",
            "x3resx3resx4\n",
            "X are\n",
            "x1\n",
            "[0.5716237  0.19668936 0.23168693]\n",
            "the mse is\n",
            "0.756220975822083\n",
            "regression score is\n",
            "0.20477855998937255\n",
            "explained_variance_score\n",
            "0.20477855998937244\n",
            "=========this is regression round 4=========\n",
            "y is \n",
            "x3resx3resx4resx1\n",
            "X are\n",
            "x2\n",
            "[0.32223146 0.30318333 0.37458521]\n",
            "the mse is\n",
            "0.7897028939060715\n",
            "regression score is\n",
            "0.1661719571585739\n",
            "explained_variance_score\n",
            "0.1661719571585739\n",
            "------------Causalilty Test Criterias------------\n",
            "mse before adding causing variable is \n",
            "0.756220975822083\n",
            "mse of all variables is\n",
            "0.7897028939060715\n",
            "\n",
            "!!!!!!!!!!!!!!!!!!!!!!!\n",
            "change of mse (ratio)\n",
            "nan\n",
            "!!!!!!!!!!!!!!!!!!!!!!!\n",
            "\n",
            "~~~~~~~~~~~~~~~~~\n",
            "the F-score is\n",
            "988\n",
            "3\n",
            "12\n",
            "-13.963114196596923\n",
            "the p_value is\n",
            "1.0\n",
            "~~~~~~~~~~~~~~~~~\n",
            "r_square_last is\n",
            "0.20477855998937255\n",
            "r_square_final is \n",
            "0.1661719571585739\n",
            "\n",
            "!!!!!!!!!!!!!!!!!!!!!!!\n",
            "r-square change\n",
            "0.18852853947601847\n",
            "!!!!!!!!!!!!!!!!!!!!!!!\n",
            "\n"
          ],
          "name": "stdout"
        },
        {
          "output_type": "stream",
          "text": [
            "/usr/local/lib/python3.6/dist-packages/ipykernel_launcher.py:128: RuntimeWarning: invalid value encountered in log\n"
          ],
          "name": "stderr"
        },
        {
          "output_type": "execute_result",
          "data": {
            "text/plain": [
              "['predicted_x3',\n",
              " 'predicted_x3resx3',\n",
              " 'predicted_x3resx3resx4',\n",
              " 'predicted_x3resx3resx4resx1']"
            ]
          },
          "metadata": {
            "tags": []
          },
          "execution_count": 17
        }
      ]
    },
    {
      "cell_type": "markdown",
      "metadata": {
        "id": "G-cXViypT8tB",
        "colab_type": "text"
      },
      "source": [
        "### X4→x3\n",
        "\n",
        "mse stable , r2 not   \n",
        "\n",
        "0.28674225600921976"
      ]
    },
    {
      "cell_type": "code",
      "metadata": {
        "id": "M69UVUGnT-Wi",
        "colab_type": "code",
        "outputId": "9082b639-ca4d-4b37-e30d-f7edc5b512ef",
        "colab": {
          "base_uri": "https://localhost:8080/",
          "height": 1000
        }
      },
      "source": [
        "causality_test(boosting([\"x3\",\"x1\",\"x2\",\"x4\"], \"x3\", 3))"
      ],
      "execution_count": 18,
      "outputs": [
        {
          "output_type": "stream",
          "text": [
            "=========this is regression round 1=========\n",
            "y is \n",
            "x3\n",
            "X are\n",
            "x3\n",
            "[0.35730607 0.39614941 0.24654452]\n",
            "the mse is\n",
            "0.9535257455964228\n",
            "regression score is\n",
            "0.1478716027056236\n",
            "explained_variance_score\n",
            "0.1478716027056235\n",
            "=========this is regression round 2=========\n",
            "y is \n",
            "x3resx3\n",
            "X are\n",
            "x1\n",
            "[0.57165662 0.19688715 0.23145624]\n",
            "the mse is\n",
            "0.7582104915841105\n",
            "regression score is\n",
            "0.20483479855087094\n",
            "explained_variance_score\n",
            "0.20483479855087094\n",
            "=========this is regression round 3=========\n",
            "y is \n",
            "x3resx3resx1\n",
            "X are\n",
            "x2\n",
            "[0.32173448 0.30344191 0.37482361]\n",
            "the mse is\n",
            "0.7918530721269036\n",
            "regression score is\n",
            "0.16615356420709948\n",
            "explained_variance_score\n",
            "0.16615356420709948\n",
            "=========this is regression round 4=========\n",
            "y is \n",
            "x3resx3resx1resx2\n",
            "X are\n",
            "x4\n",
            "[0.24181048 0.23341862 0.5247709 ]\n",
            "the mse is\n",
            "0.8183042790314508\n",
            "regression score is\n",
            "0.13544097688633827\n",
            "explained_variance_score\n",
            "0.13544097688633827\n",
            "------------Causalilty Test Criterias------------\n",
            "mse before adding causing variable is \n",
            "0.7918530721269036\n",
            "mse of all variables is\n",
            "0.8183042790314508\n",
            "\n",
            "!!!!!!!!!!!!!!!!!!!!!!!\n",
            "change of mse (ratio)\n",
            "nan\n",
            "!!!!!!!!!!!!!!!!!!!!!!!\n",
            "\n",
            "~~~~~~~~~~~~~~~~~\n",
            "the F-score is\n",
            "988\n",
            "3\n",
            "12\n",
            "-10.64550725663429\n",
            "the p_value is\n",
            "1.0\n",
            "~~~~~~~~~~~~~~~~~\n",
            "r_square_last is\n",
            "0.16615356420709948\n",
            "r_square_final is \n",
            "0.13544097688633827\n",
            "\n",
            "!!!!!!!!!!!!!!!!!!!!!!!\n",
            "r-square change\n",
            "0.18484458920471902\n",
            "!!!!!!!!!!!!!!!!!!!!!!!\n",
            "\n"
          ],
          "name": "stdout"
        },
        {
          "output_type": "stream",
          "text": [
            "/usr/local/lib/python3.6/dist-packages/ipykernel_launcher.py:128: RuntimeWarning: invalid value encountered in log\n"
          ],
          "name": "stderr"
        },
        {
          "output_type": "execute_result",
          "data": {
            "text/plain": [
              "['predicted_x3',\n",
              " 'predicted_x3resx3',\n",
              " 'predicted_x3resx3resx1',\n",
              " 'predicted_x3resx3resx1resx2']"
            ]
          },
          "metadata": {
            "tags": []
          },
          "execution_count": 18
        }
      ]
    },
    {
      "cell_type": "markdown",
      "metadata": {
        "id": "JajfvsxVA7N3",
        "colab_type": "text"
      },
      "source": [
        "## Tests of no causality\n"
      ]
    },
    {
      "cell_type": "markdown",
      "metadata": {
        "id": "XcQmsndIU9CX",
        "colab_type": "text"
      },
      "source": [
        "### X4→x1"
      ]
    },
    {
      "cell_type": "code",
      "metadata": {
        "id": "vuEq4P0SVP2N",
        "colab_type": "code",
        "outputId": "ba151cc4-01cd-4803-aed4-647307f82630",
        "colab": {
          "base_uri": "https://localhost:8080/",
          "height": 1000
        }
      },
      "source": [
        "causality_test(boosting([\"x1\",\"x2\",\"x3\",\"x4\"], \"x1\", 3))"
      ],
      "execution_count": 20,
      "outputs": [
        {
          "output_type": "stream",
          "text": [
            "=========this is regression round 1=========\n",
            "y is \n",
            "x1\n",
            "X are\n",
            "x1\n",
            "[0.37871176 0.39067219 0.23061605]\n",
            "the mse is\n",
            "0.7385118636176096\n",
            "regression score is\n",
            "0.23685132649374963\n",
            "explained_variance_score\n",
            "0.23685132649374963\n",
            "=========this is regression round 2=========\n",
            "y is \n",
            "x1resx1\n",
            "X are\n",
            "x2\n",
            "[0.38084139 0.45509787 0.16406075]\n",
            "the mse is\n",
            "0.6880026478730433\n",
            "regression score is\n",
            "0.06839323541418318\n",
            "explained_variance_score\n",
            "0.06839323541418307\n",
            "=========this is regression round 3=========\n",
            "y is \n",
            "x1resx1resx2\n",
            "X are\n",
            "x3\n",
            "[0.34622284 0.25774841 0.39602875]\n",
            "the mse is\n",
            "0.6612108425982597\n",
            "regression score is\n",
            "0.10345110695170168\n",
            "explained_variance_score\n",
            "0.10345110695170168\n",
            "=========this is regression round 4=========\n",
            "y is \n",
            "x1resx1resx2resx3\n",
            "X are\n",
            "x4\n",
            "[0.41297328 0.20708872 0.379938  ]\n",
            "the mse is\n",
            "0.6549111545455607\n",
            "regression score is\n",
            "0.11016108797576131\n",
            "explained_variance_score\n",
            "0.11016108797576118\n",
            "------------Causalilty Test Criterias------------\n",
            "mse before adding causing variable is \n",
            "0.6612108425982597\n",
            "mse of all variables is\n",
            "0.6549111545455607\n",
            "\n",
            "!!!!!!!!!!!!!!!!!!!!!!!\n",
            "change of mse (ratio)\n",
            "2.259747789791668\n",
            "!!!!!!!!!!!!!!!!!!!!!!!\n",
            "\n",
            "~~~~~~~~~~~~~~~~~\n",
            "the F-score is\n",
            "988\n",
            "3\n",
            "12\n",
            "3.1679064418976837\n",
            "the p_value is\n",
            "0.023727363915380405\n",
            "~~~~~~~~~~~~~~~~~\n",
            "r_square_last is\n",
            "0.10345110695170168\n",
            "r_square_final is \n",
            "0.11016108797576131\n",
            "\n",
            "!!!!!!!!!!!!!!!!!!!!!!!\n",
            "r-square change\n",
            "0.06486137482504009\n",
            "!!!!!!!!!!!!!!!!!!!!!!!\n",
            "\n"
          ],
          "name": "stdout"
        },
        {
          "output_type": "execute_result",
          "data": {
            "text/plain": [
              "['predicted_x1',\n",
              " 'predicted_x1resx1',\n",
              " 'predicted_x1resx1resx2',\n",
              " 'predicted_x1resx1resx2resx3']"
            ]
          },
          "metadata": {
            "tags": []
          },
          "execution_count": 20
        }
      ]
    },
    {
      "cell_type": "markdown",
      "metadata": {
        "id": "YPTIhuCgViu_",
        "colab_type": "text"
      },
      "source": [
        "### X2→x1"
      ]
    },
    {
      "cell_type": "code",
      "metadata": {
        "id": "8DBLGI5jVn8E",
        "colab_type": "code",
        "outputId": "ee3ca4af-418c-4598-d570-07eb816fb96c",
        "colab": {
          "base_uri": "https://localhost:8080/",
          "height": 1000
        }
      },
      "source": [
        "causality_test(boosting([\"x1\",\"x4\",\"x3\",\"x2\"], \"x1\", 3))"
      ],
      "execution_count": 21,
      "outputs": [
        {
          "output_type": "stream",
          "text": [
            "=========this is regression round 1=========\n",
            "y is \n",
            "x1\n",
            "X are\n",
            "x1\n",
            "[0.37871176 0.39067219 0.23061605]\n",
            "the mse is\n",
            "0.7385118636176096\n",
            "regression score is\n",
            "0.23685132649374963\n",
            "explained_variance_score\n",
            "0.23685132649374963\n",
            "=========this is regression round 2=========\n",
            "y is \n",
            "x1resx1\n",
            "X are\n",
            "x4\n",
            "[0.41291988 0.20923078 0.37784934]\n",
            "the mse is\n",
            "0.6571895622624121\n",
            "regression score is\n",
            "0.11011644546485577\n",
            "explained_variance_score\n",
            "0.11011644546485577\n",
            "=========this is regression round 3=========\n",
            "y is \n",
            "x1resx1resx4\n",
            "X are\n",
            "x3\n",
            "[0.34650752 0.25755213 0.39594034]\n",
            "the mse is\n",
            "0.6606543467208774\n",
            "regression score is\n",
            "0.10346026657218044\n",
            "explained_variance_score\n",
            "0.10346026657218055\n",
            "=========this is regression round 4=========\n",
            "y is \n",
            "x1resx1resx4resx3\n",
            "X are\n",
            "x2\n",
            "[0.38103148 0.4551683  0.16380022]\n",
            "the mse is\n",
            "0.6850570802878432\n",
            "regression score is\n",
            "0.06842660452163918\n",
            "explained_variance_score\n",
            "0.06842660452163929\n",
            "------------Causalilty Test Criterias------------\n",
            "mse before adding causing variable is \n",
            "0.6606543467208774\n",
            "mse of all variables is\n",
            "0.6850570802878432\n",
            "\n",
            "!!!!!!!!!!!!!!!!!!!!!!!\n",
            "change of mse (ratio)\n",
            "nan\n",
            "!!!!!!!!!!!!!!!!!!!!!!!\n",
            "\n",
            "~~~~~~~~~~~~~~~~~\n",
            "the F-score is\n",
            "988\n",
            "3\n",
            "12\n",
            "-11.731334248347997\n",
            "the p_value is\n",
            "1.0\n",
            "~~~~~~~~~~~~~~~~~\n",
            "r_square_last is\n",
            "0.10346026657218044\n",
            "r_square_final is \n",
            "0.06842660452163918\n",
            "\n",
            "!!!!!!!!!!!!!!!!!!!!!!!\n",
            "r-square change\n",
            "0.338619483703916\n",
            "!!!!!!!!!!!!!!!!!!!!!!!\n",
            "\n"
          ],
          "name": "stdout"
        },
        {
          "output_type": "stream",
          "text": [
            "/usr/local/lib/python3.6/dist-packages/ipykernel_launcher.py:128: RuntimeWarning: invalid value encountered in log\n"
          ],
          "name": "stderr"
        },
        {
          "output_type": "execute_result",
          "data": {
            "text/plain": [
              "['predicted_x1',\n",
              " 'predicted_x1resx1',\n",
              " 'predicted_x1resx1resx4',\n",
              " 'predicted_x1resx1resx4resx3']"
            ]
          },
          "metadata": {
            "tags": []
          },
          "execution_count": 21
        }
      ]
    },
    {
      "cell_type": "markdown",
      "metadata": {
        "id": "ikkMTcBKV5Y7",
        "colab_type": "text"
      },
      "source": [
        "### X3→x1"
      ]
    },
    {
      "cell_type": "code",
      "metadata": {
        "id": "SG4ZCEr7V0yC",
        "colab_type": "code",
        "outputId": "e381175c-ef7b-475e-9601-a7cb8088faac",
        "colab": {
          "base_uri": "https://localhost:8080/",
          "height": 1000
        }
      },
      "source": [
        "causality_test(boosting([\"x1\",\"x4\",\"x2\",\"x3\"], \"x1\", 3))"
      ],
      "execution_count": 22,
      "outputs": [
        {
          "output_type": "stream",
          "text": [
            "=========this is regression round 1=========\n",
            "y is \n",
            "x1\n",
            "X are\n",
            "x1\n",
            "[0.37871176 0.39067219 0.23061605]\n",
            "the mse is\n",
            "0.7385118636176096\n",
            "regression score is\n",
            "0.23685132649374963\n",
            "explained_variance_score\n",
            "0.23685132649374963\n",
            "=========this is regression round 2=========\n",
            "y is \n",
            "x1resx1\n",
            "X are\n",
            "x4\n",
            "[0.41291988 0.20923078 0.37784934]\n",
            "the mse is\n",
            "0.6571895622624121\n",
            "regression score is\n",
            "0.11011644546485577\n",
            "explained_variance_score\n",
            "0.11011644546485577\n",
            "=========this is regression round 3=========\n",
            "y is \n",
            "x1resx1resx4\n",
            "X are\n",
            "x2\n",
            "[0.38077321 0.45531762 0.16390917]\n",
            "the mse is\n",
            "0.6865161879834034\n",
            "regression score is\n",
            "0.0683645037325944\n",
            "explained_variance_score\n",
            "0.0683645037325944\n",
            "=========this is regression round 4=========\n",
            "y is \n",
            "x1resx1resx4resx2\n",
            "X are\n",
            "x3\n",
            "[0.34643541 0.2573016  0.39626299]\n",
            "the mse is\n",
            "0.6597099761693149\n",
            "regression score is\n",
            "0.10352220638211583\n",
            "explained_variance_score\n",
            "0.10352220638211584\n",
            "------------Causalilty Test Criterias------------\n",
            "mse before adding causing variable is \n",
            "0.6865161879834034\n",
            "mse of all variables is\n",
            "0.6597099761693149\n",
            "\n",
            "!!!!!!!!!!!!!!!!!!!!!!!\n",
            "change of mse (ratio)\n",
            "3.7005805939551\n",
            "!!!!!!!!!!!!!!!!!!!!!!!\n",
            "\n",
            "~~~~~~~~~~~~~~~~~\n",
            "the F-score is\n",
            "988\n",
            "3\n",
            "12\n",
            "13.381909338456607\n",
            "the p_value is\n",
            "1.4480426648441492e-08\n",
            "~~~~~~~~~~~~~~~~~\n",
            "r_square_last is\n",
            "0.0683645037325944\n",
            "r_square_final is \n",
            "0.10352220638211583\n",
            "\n",
            "!!!!!!!!!!!!!!!!!!!!!!!\n",
            "r-square change\n",
            "0.5142683809574583\n",
            "!!!!!!!!!!!!!!!!!!!!!!!\n",
            "\n"
          ],
          "name": "stdout"
        },
        {
          "output_type": "execute_result",
          "data": {
            "text/plain": [
              "['predicted_x1',\n",
              " 'predicted_x1resx1',\n",
              " 'predicted_x1resx1resx4',\n",
              " 'predicted_x1resx1resx4resx2']"
            ]
          },
          "metadata": {
            "tags": []
          },
          "execution_count": 22
        }
      ]
    }
  ]
}