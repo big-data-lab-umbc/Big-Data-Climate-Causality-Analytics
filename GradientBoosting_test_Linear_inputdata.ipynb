{
  "nbformat": 4,
  "nbformat_minor": 0,
  "metadata": {
    "colab": {
      "name": "GradientBoosting_test_Linear_inputdata.ipynb",
      "version": "0.3.2",
      "provenance": [],
      "collapsed_sections": [
        "G-cXViypT8tB",
        "y7JNOMcxtzVz"
      ],
      "toc_visible": true
    },
    "kernelspec": {
      "name": "python3",
      "display_name": "Python 3"
    }
  },
  "cells": [
    {
      "cell_type": "markdown",
      "metadata": {
        "id": "ur8RZ9sVt1_I",
        "colab_type": "text"
      },
      "source": [
        "# Import Library"
      ]
    },
    {
      "cell_type": "code",
      "metadata": {
        "id": "SD5M5TQUO6pc",
        "colab_type": "code",
        "colab": {}
      },
      "source": [
        "import sklearn\n",
        "sklearn.__version__\n",
        "import scipy\n",
        "\n",
        "import numpy as np\n",
        "import pandas as pd\n",
        "from sklearn.tree import DecisionTreeRegressor\n",
        "import matplotlib.pyplot as plt\n",
        "from sklearn.metrics import mean_squared_error,r2_score,explained_variance_score\n",
        "from graphviz import Digraph"
      ],
      "execution_count": 0,
      "outputs": []
    },
    {
      "cell_type": "markdown",
      "metadata": {
        "id": "u1CEDBACuIEx",
        "colab_type": "text"
      },
      "source": [
        "# Conditional Causality\n"
      ]
    },
    {
      "cell_type": "code",
      "metadata": {
        "id": "J_-OsRgIS-bd",
        "colab_type": "code",
        "colab": {}
      },
      "source": [
        "df = pd.read_csv(\"synth_data_with_header.csv\", header='infer')\n",
        "# g = Digraph('G', filename='boosting_causality.gv', strict=True)\n",
        "n = df.shape[0]\n",
        "k = df.shape[1]"
      ],
      "execution_count": 0,
      "outputs": []
    },
    {
      "cell_type": "markdown",
      "metadata": {
        "id": "wP7y39bOQUuV",
        "colab_type": "text"
      },
      "source": [
        "## Functions: regression, boosting, causality_test"
      ]
    },
    {
      "cell_type": "code",
      "metadata": {
        "id": "_O5DoyVoI2C6",
        "colab_type": "code",
        "colab": {}
      },
      "source": [
        "def regression(df, x_name, y_name, maxlag):\n",
        "    data = df\n",
        "    df_list = []     \n",
        "    \n",
        "    v = 0.1\n",
        "    # add lagged columns of current x variable as x_name\n",
        "    for lag in range(1,maxlag+1):\n",
        "        data['{}_{}'.format(x_name,str(lag))] = data['{}'.format(x_name)].shift(lag)\n",
        "        df_list.append(data['{}_{}'.format(x_name,str(lag))])\n",
        "\n",
        "    # create test dataframe X, and y\n",
        "    X = pd.concat(df_list,axis = 1)  \n",
        "    y = data[y_name]\n",
        "\n",
        "    # remove NaN rows, the number of removal is maxlag\n",
        "    X = X.iloc[maxlag:]\n",
        "    y = y.iloc[maxlag:]\n",
        "#     print(y)\n",
        "    print(\"y is \")\n",
        "    print(y_name)\n",
        "    print(\"X are\")\n",
        "    print(x_name)\n",
        "    # build regression reg_y, X→y\n",
        "    reg_y = DecisionTreeRegressor(random_state = 0, max_depth=8, min_samples_leaf=10)\n",
        "#     reg_y = DecisionTreeRegressor(random_state = 0)\n",
        "    # fit model using data X, y\n",
        "    reg_y.fit(X, y)\n",
        "    # check number of features\n",
        "#     print(reg_y.n_features_)\n",
        "    # check feature importance \n",
        "    print(reg_y.feature_importances_)\n",
        "\n",
        "#     print(reg_y.decision_path)\n",
        "    # y_hat is the predicted value of y\n",
        "    y_hat = reg_y.predict(X) \n",
        "\n",
        "    # save predicted y_hat as a pd dataframe and move its index to match the place in original df\n",
        "    y_hat_df = pd.DataFrame(y_hat)\n",
        "    y_hat_df.index += maxlag\n",
        "    # save the predicted value into dataframe\n",
        "    data['predicted_{}'.format(y_name)] = y_hat_df  \n",
        "\n",
        "    # compuate mse\n",
        "    reg_mse = mean_squared_error(y,y_hat)\n",
        "    # compute residual value of y, y-y_hat, the residual value is the y in next round of loop\n",
        "    if y_name == x_name:\n",
        "        # learning rate is not in model 0\n",
        "        y_residual = y - y_hat\n",
        "        # apply leraning rate\n",
        "    else:\n",
        "        y_residual = y - (y_hat * v)\n",
        "        \n",
        "    data[\"{}res{}\".format(y_name,x_name)] = y_residual\n",
        "\n",
        "    # print mse, r^2, variance\n",
        "    print(\"the mse is\")\n",
        "    print(reg_mse)\n",
        "    print(\"regression score is\")\n",
        "#     print(r2_score(data['{}'.format(y_name)].iloc[3:], data['predicted_{}'.format(y_name)].iloc[3:]))\n",
        "    # score is the r2_score, same results\n",
        "    print(reg_y.score(X,y))\n",
        "    r2 = reg_y.score(X,y)\n",
        "#     print(\"var_reg is\")\n",
        "  #   print(df['predicted_{}'.format(y_name)].var(ddof=0))\n",
        "#     var_reg = df['predicted_{}'.format(y_name)].var(ddof=0)  \n",
        "\n",
        "    #print explained_variance_score\n",
        "    print(\"explained_variance_score\")\n",
        "    variance_score = explained_variance_score(y,y_hat)\n",
        "    print(variance_score)\n",
        "\n",
        "#     print(data.head(10))\n",
        "    return reg_mse,reg_y.score(X,y),variance_score,r2\n",
        "\n",
        "\n",
        "def boosting(x_list, y_name, maxlag):\n",
        "  \n",
        "    # loop through each variable in the list\n",
        "    temp_y_name = y_name\n",
        "    mse_arr = []\n",
        "    r2_arr = []\n",
        "    \n",
        "    predicted_name_list = []\n",
        "    \n",
        "    for pivot_x in range(0,len(x_list)):\n",
        "        print(\"=========this is regression round {}=========\".format(pivot_x+1))\n",
        "\n",
        "        # save return value of regression in res_list\n",
        "        res_list = regression(df, x_list[pivot_x],y_name,3)  \n",
        "        \n",
        "        # save predicted column name as a list\n",
        "        predicted_name_list.append('predicted_{}'.format(y_name))\n",
        "        \n",
        "        # build y_name such as x1resx1, which means x1 substacts x1_hat, res means residual\n",
        "        y_name = str(y_name) +\"res\"+ str(x_list[pivot_x])\n",
        "        \n",
        "        # example: [0.7614110755692759, 0.6019695603895466, 0.4941602516989991, 0.36284165024184334]\n",
        "        mse_arr.append(res_list[0])\n",
        "        r2_arr.append(res_list[3])\n",
        "    \n",
        "    return mse_arr,predicted_name_list,r2_arr,maxlag\n",
        "\n",
        "\n",
        "def causality_test(boosting_result_list):\n",
        "    \n",
        "    mse_arr = boosting_result_list[0]\n",
        "    name_list = boosting_result_list[1]\n",
        "    r2_arr =  boosting_result_list[2]\n",
        "    maxlag = boosting_result_list[3]\n",
        "    \n",
        "    print('------------Causalilty Test Criterias------------')\n",
        "    \n",
        "    # mse_y means the mse to predict y using all other varaibles except for the causing variable\n",
        "\n",
        "    mse_y = mse_arr[len(mse_arr)-2]\n",
        "#     print(mse_arr[len(mse_arr)-1])\n",
        "    mse_all = mse_arr[len(mse_arr)-1]\n",
        "\n",
        "    print(\"mse before adding causing variable is \")\n",
        "    print(mse_y)\n",
        "    print(\"mse of all variables is\")\n",
        "    print(mse_all)\n",
        "    print(\"\\n!!!!!!!!!!!!!!!!!!!!!!!\")\n",
        "    print(\"change of mse (ratio)\")\n",
        "#     mse_change = mse_y/mse_all\n",
        "    mse_change = ((mse_y-mse_all)/(3-2))/(mse_all/(999-3))\n",
        "    \n",
        "    print(np.log(mse_change))\n",
        "    print(\"!!!!!!!!!!!!!!!!!!!!!!!\\n\")\n",
        "    \n",
        "    print(\"~~~~~~~~~~~~~~~~~\")\n",
        "    print(\"the F-score is\")\n",
        "    f_score = ((mse_y-mse_all)/mse_all)*((n-k*maxlag)/maxlag)\n",
        "    print(n-k*maxlag)\n",
        "    print(maxlag)\n",
        "    print(k*maxlag)\n",
        "    print(f_score)\n",
        "    p_value = scipy.stats.f.sf(f_score, maxlag, n-k*maxlag)\n",
        "    print(\"the p_value is\")\n",
        "    print(p_value)\n",
        "    print(\"~~~~~~~~~~~~~~~~~\")\n",
        "    \n",
        "    \n",
        "    df['pred_y'] = df[name_list[0]]\n",
        "    for key in range(1, len(name_list)):\n",
        "        df['pred_y'] += df[name_list[key]]\n",
        "\n",
        "    df['last_step'] = df['pred_y'] - df[name_list[len(name_list)-1]]\n",
        "\n",
        "    # df['step_3'] = df['predicted_x3'] + df['predicted_x3resx3'] + df['predicted_x3resx3resx4']\n",
        "\n",
        "    r2_y = r2_arr[len(r2_arr)-2]\n",
        "#     print(mse_arr[len(mse_arr)-1])\n",
        "    r2_all = r2_arr[len(r2_arr)-1]\n",
        "  \n",
        "    print(\"r_square_last is\")\n",
        "    print(r2_y)\n",
        "    print(\"r_square_final is \")\n",
        "    print(r2_all)\n",
        "    print(\"\\n!!!!!!!!!!!!!!!!!!!!!!!\")\n",
        "    print(\"r-square change\")\n",
        "    r_square_change = abs(r2_all-r2_y)/r2_y\n",
        "    print(r_square_change)\n",
        "    print(\"!!!!!!!!!!!!!!!!!!!!!!!\\n\")\n",
        "    \n",
        "    \n",
        "#     # draw graph if var_change >0.05  -- to do\n",
        "#     if var_change > 0.05:\n",
        "#         g.edge(,,label = \" {} \".format(temp_lag))\n",
        "\n",
        "    return name_list\n",
        "\n"
      ],
      "execution_count": 0,
      "outputs": []
    },
    {
      "cell_type": "markdown",
      "metadata": {
        "id": "75d_W1EGQd1I",
        "colab_type": "text"
      },
      "source": [
        "## Tests of causality should exist\n"
      ]
    },
    {
      "cell_type": "markdown",
      "metadata": {
        "id": "VEDz7_SxTbWG",
        "colab_type": "text"
      },
      "source": [
        "###: x1→x3|x4, x2\n",
        "\n",
        "mse stable   r2 not stable if change x4 x2 position\n",
        "\n",
        "0.36683870563049154"
      ]
    },
    {
      "cell_type": "code",
      "metadata": {
        "id": "ezEUMnBkQdMw",
        "colab_type": "code",
        "outputId": "465df859-1fcb-4afe-9648-d9a9a7f3229a",
        "colab": {
          "base_uri": "https://localhost:8080/",
          "height": 1000
        }
      },
      "source": [
        "causality_test(boosting([\"x3\",\"x4\",\"x2\",\"x1\"], \"x3\", 3))\n",
        "# print(g)\n",
        "# print(g.view())\n",
        "# g"
      ],
      "execution_count": 0,
      "outputs": [
        {
          "output_type": "stream",
          "text": [
            "=========this is regression round 1=========\n",
            "y is \n",
            "x3\n",
            "X are\n",
            "x3\n",
            "[0.67802247 0.06310569 0.25887184]\n",
            "the mse is\n",
            "1.7193309403310961\n",
            "regression score is\n",
            "0.699098301511516\n",
            "explained_variance_score\n",
            "0.699098301511516\n",
            "=========this is regression round 2=========\n",
            "y is \n",
            "x3resx3\n",
            "X are\n",
            "x4\n",
            "[0.38515286 0.32399318 0.29085396]\n",
            "the mse is\n",
            "1.3904025020511124\n",
            "regression score is\n",
            "0.19131188217705275\n",
            "explained_variance_score\n",
            "0.19131188217705264\n",
            "=========this is regression round 3=========\n",
            "y is \n",
            "x3resx3resx4\n",
            "X are\n",
            "x2\n",
            "[0.58395382 0.24613909 0.16990709]\n",
            "the mse is\n",
            "1.193476504238941\n",
            "regression score is\n",
            "0.2796646390784199\n",
            "explained_variance_score\n",
            "0.2796646390784199\n",
            "=========this is regression round 4=========\n",
            "y is \n",
            "x3resx3resx4resx2\n",
            "X are\n",
            "x1\n",
            "[0.57816307 0.20549126 0.21634567]\n",
            "the mse is\n",
            "1.027780772004482\n",
            "regression score is\n",
            "0.3448603659465288\n",
            "explained_variance_score\n",
            "0.3448603659465289\n",
            "------------Causalilty Test Criterias------------\n",
            "mse before adding causing variable is \n",
            "1.193476504238941\n",
            "mse of all variables is\n",
            "1.027780772004482\n",
            "\n",
            "!!!!!!!!!!!!!!!!!!!!!!!\n",
            "change of mse (ratio)\n",
            "5.0787432592398405\n",
            "!!!!!!!!!!!!!!!!!!!!!!!\n",
            "\n",
            "~~~~~~~~~~~~~~~~~\n",
            "the F-score is\n",
            "987\n",
            "3\n",
            "12\n",
            "53.04039284449591\n",
            "the p_value is\n",
            "8.682010664518644e-32\n",
            "~~~~~~~~~~~~~~~~~\n",
            "r_square_last is\n",
            "0.2796646390784199\n",
            "r_square_final is \n",
            "0.3448603659465288\n",
            "\n",
            "!!!!!!!!!!!!!!!!!!!!!!!\n",
            "r-square change\n",
            "0.2331210949047713\n",
            "!!!!!!!!!!!!!!!!!!!!!!!\n",
            "\n"
          ],
          "name": "stdout"
        },
        {
          "output_type": "execute_result",
          "data": {
            "text/plain": [
              "['predicted_x3',\n",
              " 'predicted_x3resx3',\n",
              " 'predicted_x3resx3resx4',\n",
              " 'predicted_x3resx3resx4resx2']"
            ]
          },
          "metadata": {
            "tags": []
          },
          "execution_count": 5
        }
      ]
    },
    {
      "cell_type": "markdown",
      "metadata": {
        "id": "2NSD_M2ETuCz",
        "colab_type": "text"
      },
      "source": [
        "### X2→x3\n",
        " change x1 x4 cause large difference between r2, mse similar\n",
        " \n",
        " 0.3127685509289654\n"
      ]
    },
    {
      "cell_type": "code",
      "metadata": {
        "id": "lxqm8K8hTw8j",
        "colab_type": "code",
        "outputId": "9c62adc2-45ab-4859-be04-072c815377e4",
        "colab": {
          "base_uri": "https://localhost:8080/",
          "height": 1000
        }
      },
      "source": [
        "causality_test(boosting([\"x3\",\"x4\",\"x1\",\"x2\"], \"x3\", 3))"
      ],
      "execution_count": 0,
      "outputs": [
        {
          "output_type": "stream",
          "text": [
            "=========this is regression round 1=========\n",
            "y is \n",
            "x3\n",
            "X are\n",
            "x3\n",
            "[0.67802247 0.06310569 0.25887184]\n",
            "the mse is\n",
            "1.7193309403310961\n",
            "regression score is\n",
            "0.699098301511516\n",
            "explained_variance_score\n",
            "0.699098301511516\n",
            "=========this is regression round 2=========\n",
            "y is \n",
            "x3resx3\n",
            "X are\n",
            "x4\n",
            "[0.38515286 0.32399318 0.29085396]\n",
            "the mse is\n",
            "1.3904025020511124\n",
            "regression score is\n",
            "0.19131188217705275\n",
            "explained_variance_score\n",
            "0.19131188217705264\n",
            "=========this is regression round 3=========\n",
            "y is \n",
            "x3resx3resx4\n",
            "X are\n",
            "x1\n",
            "[0.58354713 0.19466934 0.22178352]\n",
            "the mse is\n",
            "1.0666678097997941\n",
            "regression score is\n",
            "0.3562013671601061\n",
            "explained_variance_score\n",
            "0.3562013671601061\n",
            "=========this is regression round 4=========\n",
            "y is \n",
            "x3resx3resx4resx1\n",
            "X are\n",
            "x2\n",
            "[0.58080487 0.22707413 0.192121  ]\n",
            "the mse is\n",
            "1.1052467610026073\n",
            "regression score is\n",
            "0.2844923186037267\n",
            "explained_variance_score\n",
            "0.2844923186037268\n",
            "------------Causalilty Test Criterias------------\n",
            "mse before adding causing variable is \n",
            "1.0666678097997941\n",
            "mse of all variables is\n",
            "1.1052467610026073\n",
            "\n",
            "!!!!!!!!!!!!!!!!!!!!!!!\n",
            "change of mse (ratio)\n",
            "nan\n",
            "!!!!!!!!!!!!!!!!!!!!!!!\n",
            "\n",
            "~~~~~~~~~~~~~~~~~\n",
            "the F-score is\n",
            "987\n",
            "3\n",
            "12\n",
            "-11.483838174030709\n",
            "the p_value is\n",
            "1.0\n",
            "~~~~~~~~~~~~~~~~~\n",
            "r_square_last is\n",
            "0.3562013671601061\n",
            "r_square_final is \n",
            "0.2844923186037267\n",
            "\n",
            "!!!!!!!!!!!!!!!!!!!!!!!\n",
            "r-square change\n",
            "0.20131603965502878\n",
            "!!!!!!!!!!!!!!!!!!!!!!!\n",
            "\n"
          ],
          "name": "stdout"
        },
        {
          "output_type": "stream",
          "text": [
            "/usr/local/lib/python3.6/dist-packages/ipykernel_launcher.py:128: RuntimeWarning: invalid value encountered in log\n"
          ],
          "name": "stderr"
        },
        {
          "output_type": "execute_result",
          "data": {
            "text/plain": [
              "['predicted_x3',\n",
              " 'predicted_x3resx3',\n",
              " 'predicted_x3resx3resx4',\n",
              " 'predicted_x3resx3resx4resx1']"
            ]
          },
          "metadata": {
            "tags": []
          },
          "execution_count": 6
        }
      ]
    },
    {
      "cell_type": "markdown",
      "metadata": {
        "id": "G-cXViypT8tB",
        "colab_type": "text"
      },
      "source": [
        "### X4→x3\n",
        "\n",
        "mse stable , r2 not   \n",
        "\n",
        "0.28674225600921976"
      ]
    },
    {
      "cell_type": "code",
      "metadata": {
        "id": "M69UVUGnT-Wi",
        "colab_type": "code",
        "outputId": "82ecc00d-3415-4d4a-8861-1df6db03024b",
        "colab": {
          "base_uri": "https://localhost:8080/",
          "height": 1000
        }
      },
      "source": [
        "causality_test(boosting([\"x3\",\"x1\",\"x2\",\"x4\"], \"x3\", 3))"
      ],
      "execution_count": 0,
      "outputs": [
        {
          "output_type": "stream",
          "text": [
            "=========this is regression round 1=========\n",
            "y is \n",
            "x3\n",
            "X are\n",
            "x3\n",
            "[0.67802247 0.06310569 0.25887184]\n",
            "the mse is\n",
            "1.7193309403310961\n",
            "regression score is\n",
            "0.699098301511516\n",
            "explained_variance_score\n",
            "0.699098301511516\n",
            "=========this is regression round 2=========\n",
            "y is \n",
            "x3resx3\n",
            "X are\n",
            "x1\n",
            "[0.55644369 0.21420652 0.22934978]\n",
            "the mse is\n",
            "1.1246576783441986\n",
            "regression score is\n",
            "0.3458748098096692\n",
            "explained_variance_score\n",
            "0.3458748098096691\n",
            "=========this is regression round 3=========\n",
            "y is \n",
            "x3resx3resx1\n",
            "X are\n",
            "x2\n",
            "[0.58348036 0.23170455 0.18481509]\n",
            "the mse is\n",
            "1.154274349220922\n",
            "regression score is\n",
            "0.2814272328813491\n",
            "explained_variance_score\n",
            "0.2814272328813491\n",
            "=========this is regression round 4=========\n",
            "y is \n",
            "x3resx3resx1resx2\n",
            "X are\n",
            "x4\n",
            "[0.38045106 0.30663254 0.31291639]\n",
            "the mse is\n",
            "1.2306990527413255\n",
            "regression score is\n",
            "0.19056919030836272\n",
            "explained_variance_score\n",
            "0.1905691903083626\n",
            "------------Causalilty Test Criterias------------\n",
            "mse before adding causing variable is \n",
            "1.154274349220922\n",
            "mse of all variables is\n",
            "1.2306990527413255\n",
            "\n",
            "!!!!!!!!!!!!!!!!!!!!!!!\n",
            "change of mse (ratio)\n",
            "nan\n",
            "!!!!!!!!!!!!!!!!!!!!!!!\n",
            "\n",
            "~~~~~~~~~~~~~~~~~\n",
            "the F-score is\n",
            "987\n",
            "3\n",
            "12\n",
            "-20.430443496487843\n",
            "the p_value is\n",
            "1.0\n",
            "~~~~~~~~~~~~~~~~~\n",
            "r_square_last is\n",
            "0.2814272328813491\n",
            "r_square_final is \n",
            "0.19056919030836272\n",
            "\n",
            "!!!!!!!!!!!!!!!!!!!!!!!\n",
            "r-square change\n",
            "0.3228473720995313\n",
            "!!!!!!!!!!!!!!!!!!!!!!!\n",
            "\n"
          ],
          "name": "stdout"
        },
        {
          "output_type": "stream",
          "text": [
            "/usr/local/lib/python3.6/dist-packages/ipykernel_launcher.py:128: RuntimeWarning: invalid value encountered in log\n"
          ],
          "name": "stderr"
        },
        {
          "output_type": "execute_result",
          "data": {
            "text/plain": [
              "['predicted_x3',\n",
              " 'predicted_x3resx3',\n",
              " 'predicted_x3resx3resx1',\n",
              " 'predicted_x3resx3resx1resx2']"
            ]
          },
          "metadata": {
            "tags": []
          },
          "execution_count": 7
        }
      ]
    },
    {
      "cell_type": "markdown",
      "metadata": {
        "id": "JajfvsxVA7N3",
        "colab_type": "text"
      },
      "source": [
        "## Tests of no causality\n"
      ]
    },
    {
      "cell_type": "markdown",
      "metadata": {
        "id": "XcQmsndIU9CX",
        "colab_type": "text"
      },
      "source": [
        "### X4→x1"
      ]
    },
    {
      "cell_type": "code",
      "metadata": {
        "id": "vuEq4P0SVP2N",
        "colab_type": "code",
        "outputId": "c42721b0-0ce0-4a84-af32-f591edf3c0ce",
        "colab": {
          "base_uri": "https://localhost:8080/",
          "height": 1000
        }
      },
      "source": [
        "causality_test(boosting([\"x1\",\"x2\",\"x3\",\"x4\"], \"x1\", 3))"
      ],
      "execution_count": 0,
      "outputs": [
        {
          "output_type": "stream",
          "text": [
            "=========this is regression round 1=========\n",
            "y is \n",
            "x1\n",
            "X are\n",
            "x1\n",
            "[0.57814715 0.0410388  0.38081405]\n",
            "the mse is\n",
            "1.058481185715396\n",
            "regression score is\n",
            "0.897272952026542\n",
            "explained_variance_score\n",
            "0.8972729520265421\n",
            "=========this is regression round 2=========\n",
            "y is \n",
            "x1resx1\n",
            "X are\n",
            "x2\n",
            "[0.38564578 0.29727728 0.31707694]\n",
            "the mse is\n",
            "0.9015077316524469\n",
            "regression score is\n",
            "0.14830065586555996\n",
            "explained_variance_score\n",
            "0.14830065586556007\n",
            "=========this is regression round 3=========\n",
            "y is \n",
            "x1resx1resx2\n",
            "X are\n",
            "x3\n",
            "[0.27320635 0.36119419 0.36559946]\n",
            "the mse is\n",
            "0.8890270758749255\n",
            "regression score is\n",
            "0.13573937489695465\n",
            "explained_variance_score\n",
            "0.13573937489695465\n",
            "=========this is regression round 4=========\n",
            "y is \n",
            "x1resx1resx2resx3\n",
            "X are\n",
            "x4\n",
            "[0.46551592 0.33884304 0.19564104]\n",
            "the mse is\n",
            "0.8529399872465963\n",
            "regression score is\n",
            "0.14887010242119136\n",
            "explained_variance_score\n",
            "0.14887010242119136\n",
            "------------Causalilty Test Criterias------------\n",
            "mse before adding causing variable is \n",
            "0.8890270758749255\n",
            "mse of all variables is\n",
            "0.8529399872465963\n",
            "\n",
            "!!!!!!!!!!!!!!!!!!!!!!!\n",
            "change of mse (ratio)\n",
            "3.7409932131355514\n",
            "!!!!!!!!!!!!!!!!!!!!!!!\n",
            "\n",
            "~~~~~~~~~~~~~~~~~\n",
            "the F-score is\n",
            "987\n",
            "3\n",
            "12\n",
            "13.919680559293289\n",
            "the p_value is\n",
            "6.798271214075229e-09\n",
            "~~~~~~~~~~~~~~~~~\n",
            "r_square_last is\n",
            "0.13573937489695465\n",
            "r_square_final is \n",
            "0.14887010242119136\n",
            "\n",
            "!!!!!!!!!!!!!!!!!!!!!!!\n",
            "r-square change\n",
            "0.09673484598116644\n",
            "!!!!!!!!!!!!!!!!!!!!!!!\n",
            "\n"
          ],
          "name": "stdout"
        },
        {
          "output_type": "execute_result",
          "data": {
            "text/plain": [
              "['predicted_x1',\n",
              " 'predicted_x1resx1',\n",
              " 'predicted_x1resx1resx2',\n",
              " 'predicted_x1resx1resx2resx3']"
            ]
          },
          "metadata": {
            "tags": []
          },
          "execution_count": 8
        }
      ]
    },
    {
      "cell_type": "code",
      "metadata": {
        "id": "JeVEhCQt5U8d",
        "colab_type": "code",
        "colab": {}
      },
      "source": [
        "# # print(df)\n",
        "# for col in df.columns: \n",
        "#     print(col)"
      ],
      "execution_count": 0,
      "outputs": []
    },
    {
      "cell_type": "markdown",
      "metadata": {
        "id": "YPTIhuCgViu_",
        "colab_type": "text"
      },
      "source": [
        "### X2→x1"
      ]
    },
    {
      "cell_type": "code",
      "metadata": {
        "id": "8DBLGI5jVn8E",
        "colab_type": "code",
        "outputId": "f03e2f04-6626-443b-c9f7-423a763440e0",
        "colab": {
          "base_uri": "https://localhost:8080/",
          "height": 1000
        }
      },
      "source": [
        "causality_test(boosting([\"x1\",\"x4\",\"x3\",\"x2\"], \"x1\", 3))"
      ],
      "execution_count": 0,
      "outputs": [
        {
          "output_type": "stream",
          "text": [
            "=========this is regression round 1=========\n",
            "y is \n",
            "x1\n",
            "X are\n",
            "x1\n",
            "[0.57814715 0.0410388  0.38081405]\n",
            "the mse is\n",
            "1.058481185715396\n",
            "regression score is\n",
            "0.897272952026542\n",
            "explained_variance_score\n",
            "0.8972729520265421\n",
            "=========this is regression round 2=========\n",
            "y is \n",
            "x1resx1\n",
            "X are\n",
            "x4\n",
            "[0.4606989  0.34295923 0.19634187]\n",
            "the mse is\n",
            "0.9005429124496113\n",
            "regression score is\n",
            "0.1492121687161012\n",
            "explained_variance_score\n",
            "0.1492121687161012\n",
            "=========this is regression round 3=========\n",
            "y is \n",
            "x1resx1resx4\n",
            "X are\n",
            "x3\n",
            "[0.27418409 0.3187954  0.4070205 ]\n",
            "the mse is\n",
            "0.9265648661359537\n",
            "regression score is\n",
            "0.09908675891416452\n",
            "explained_variance_score\n",
            "0.09908675891416452\n",
            "=========this is regression round 4=========\n",
            "y is \n",
            "x1resx1resx4resx3\n",
            "X are\n",
            "x2\n",
            "[0.32067412 0.40214923 0.27717665]\n",
            "the mse is\n",
            "0.8708260087419\n",
            "regression score is\n",
            "0.13703592598887837\n",
            "explained_variance_score\n",
            "0.13703592598887837\n",
            "------------Causalilty Test Criterias------------\n",
            "mse before adding causing variable is \n",
            "0.9265648661359537\n",
            "mse of all variables is\n",
            "0.8708260087419\n",
            "\n",
            "!!!!!!!!!!!!!!!!!!!!!!!\n",
            "change of mse (ratio)\n",
            "4.15498258402195\n",
            "!!!!!!!!!!!!!!!!!!!!!!!\n",
            "\n",
            "~~~~~~~~~~~~~~~~~\n",
            "the F-score is\n",
            "987\n",
            "3\n",
            "12\n",
            "21.058264106210004\n",
            "the p_value is\n",
            "3.15279024576827e-13\n",
            "~~~~~~~~~~~~~~~~~\n",
            "r_square_last is\n",
            "0.09908675891416452\n",
            "r_square_final is \n",
            "0.13703592598887837\n",
            "\n",
            "!!!!!!!!!!!!!!!!!!!!!!!\n",
            "r-square change\n",
            "0.3829892862636462\n",
            "!!!!!!!!!!!!!!!!!!!!!!!\n",
            "\n"
          ],
          "name": "stdout"
        },
        {
          "output_type": "execute_result",
          "data": {
            "text/plain": [
              "['predicted_x1',\n",
              " 'predicted_x1resx1',\n",
              " 'predicted_x1resx1resx4',\n",
              " 'predicted_x1resx1resx4resx3']"
            ]
          },
          "metadata": {
            "tags": []
          },
          "execution_count": 9
        }
      ]
    },
    {
      "cell_type": "markdown",
      "metadata": {
        "id": "ikkMTcBKV5Y7",
        "colab_type": "text"
      },
      "source": [
        "### X3→x1"
      ]
    },
    {
      "cell_type": "code",
      "metadata": {
        "id": "SG4ZCEr7V0yC",
        "colab_type": "code",
        "outputId": "10a9b10d-48ef-4443-b884-913d25ac5d2d",
        "colab": {
          "base_uri": "https://localhost:8080/",
          "height": 1000
        }
      },
      "source": [
        "causality_test(boosting([\"x1\",\"x4\",\"x2\",\"x3\"], \"x1\", 3))"
      ],
      "execution_count": 0,
      "outputs": [
        {
          "output_type": "stream",
          "text": [
            "=========this is regression round 1=========\n",
            "y is \n",
            "x1\n",
            "X are\n",
            "x1\n",
            "[0.57814715 0.0410388  0.38081405]\n",
            "the mse is\n",
            "1.058481185715396\n",
            "regression score is\n",
            "0.897272952026542\n",
            "explained_variance_score\n",
            "0.8972729520265421\n",
            "=========this is regression round 2=========\n",
            "y is \n",
            "x1resx1\n",
            "X are\n",
            "x4\n",
            "[0.4606989  0.34295923 0.19634187]\n",
            "the mse is\n",
            "0.9005429124496113\n",
            "regression score is\n",
            "0.1492121687161012\n",
            "explained_variance_score\n",
            "0.1492121687161012\n",
            "=========this is regression round 3=========\n",
            "y is \n",
            "x1resx1resx4\n",
            "X are\n",
            "x2\n",
            "[0.31985411 0.40258975 0.27755615]\n",
            "the mse is\n",
            "0.8883159495939721\n",
            "regression score is\n",
            "0.136276767546331\n",
            "explained_variance_score\n",
            "0.1362767675463309\n",
            "=========this is regression round 4=========\n",
            "y is \n",
            "x1resx1resx4resx2\n",
            "X are\n",
            "x3\n",
            "[0.27419393 0.34747861 0.37832746]\n",
            "the mse is\n",
            "0.8709726451734207\n",
            "regression score is\n",
            "0.13062968308275802\n",
            "explained_variance_score\n",
            "0.13062968308275813\n",
            "------------Causalilty Test Criterias------------\n",
            "mse before adding causing variable is \n",
            "0.8883159495939721\n",
            "mse of all variables is\n",
            "0.8709726451734207\n",
            "\n",
            "!!!!!!!!!!!!!!!!!!!!!!!\n",
            "change of mse (ratio)\n",
            "2.9873432070049497\n",
            "!!!!!!!!!!!!!!!!!!!!!!!\n",
            "\n",
            "~~~~~~~~~~~~~~~~~\n",
            "the F-score is\n",
            "987\n",
            "3\n",
            "12\n",
            "6.551235777588975\n",
            "the p_value is\n",
            "0.00021851167230274156\n",
            "~~~~~~~~~~~~~~~~~\n",
            "r_square_last is\n",
            "0.136276767546331\n",
            "r_square_final is \n",
            "0.13062968308275802\n",
            "\n",
            "!!!!!!!!!!!!!!!!!!!!!!!\n",
            "r-square change\n",
            "0.0414383505365513\n",
            "!!!!!!!!!!!!!!!!!!!!!!!\n",
            "\n"
          ],
          "name": "stdout"
        },
        {
          "output_type": "execute_result",
          "data": {
            "text/plain": [
              "['predicted_x1',\n",
              " 'predicted_x1resx1',\n",
              " 'predicted_x1resx1resx4',\n",
              " 'predicted_x1resx1resx4resx2']"
            ]
          },
          "metadata": {
            "tags": []
          },
          "execution_count": 10
        }
      ]
    },
    {
      "cell_type": "markdown",
      "metadata": {
        "id": "eNewHkkmLEgn",
        "colab_type": "text"
      },
      "source": [
        "x2→x4"
      ]
    },
    {
      "cell_type": "code",
      "metadata": {
        "id": "0LGAiWwKLDcl",
        "colab_type": "code",
        "outputId": "bfbb7c61-e3b0-4c6c-e335-d0ee4d3ee687",
        "colab": {
          "base_uri": "https://localhost:8080/",
          "height": 1000
        }
      },
      "source": [
        "causality_test(boosting([\"x4\",\"x1\",\"x3\",\"x2\"], \"x4\", 3))"
      ],
      "execution_count": 0,
      "outputs": [
        {
          "output_type": "stream",
          "text": [
            "=========this is regression round 1=========\n",
            "y is \n",
            "x4\n",
            "X are\n",
            "x4\n",
            "[0.98086417 0.01212027 0.00701556]\n",
            "the mse is\n",
            "1.2110282771944438\n",
            "regression score is\n",
            "0.9258698185089883\n",
            "explained_variance_score\n",
            "0.9258698185089883\n",
            "=========this is regression round 2=========\n",
            "y is \n",
            "x4resx4\n",
            "X are\n",
            "x1\n",
            "[0.26069394 0.61873655 0.12056951]\n",
            "the mse is\n",
            "0.7550058181917545\n",
            "regression score is\n",
            "0.37655806027844707\n",
            "explained_variance_score\n",
            "0.37655806027844707\n",
            "=========this is regression round 3=========\n",
            "y is \n",
            "x4resx4resx1\n",
            "X are\n",
            "x3\n",
            "[0.66810892 0.15492827 0.1769628 ]\n",
            "the mse is\n",
            "0.6895629633031214\n",
            "regression score is\n",
            "0.3867193439428446\n",
            "explained_variance_score\n",
            "0.3867193439428446\n",
            "=========this is regression round 4=========\n",
            "y is \n",
            "x4resx4resx1resx3\n",
            "X are\n",
            "x2\n",
            "[0.33958409 0.36268442 0.29773149]\n",
            "the mse is\n",
            "0.846400002373468\n",
            "regression score is\n",
            "0.18753504298148693\n",
            "explained_variance_score\n",
            "0.18753504298148682\n",
            "------------Causalilty Test Criterias------------\n",
            "mse before adding causing variable is \n",
            "0.6895629633031214\n",
            "mse of all variables is\n",
            "0.846400002373468\n",
            "\n",
            "!!!!!!!!!!!!!!!!!!!!!!!\n",
            "change of mse (ratio)\n",
            "nan\n",
            "!!!!!!!!!!!!!!!!!!!!!!!\n",
            "\n",
            "~~~~~~~~~~~~~~~~~\n",
            "the F-score is\n",
            "987\n",
            "3\n",
            "12\n",
            "-60.96335740719454\n",
            "the p_value is\n",
            "1.0\n",
            "~~~~~~~~~~~~~~~~~\n",
            "r_square_last is\n",
            "0.3867193439428446\n",
            "r_square_final is \n",
            "0.18753504298148693\n",
            "\n",
            "!!!!!!!!!!!!!!!!!!!!!!!\n",
            "r-square change\n",
            "0.5150616437506064\n",
            "!!!!!!!!!!!!!!!!!!!!!!!\n",
            "\n"
          ],
          "name": "stdout"
        },
        {
          "output_type": "stream",
          "text": [
            "/usr/local/lib/python3.6/dist-packages/ipykernel_launcher.py:128: RuntimeWarning: invalid value encountered in log\n"
          ],
          "name": "stderr"
        },
        {
          "output_type": "execute_result",
          "data": {
            "text/plain": [
              "['predicted_x4',\n",
              " 'predicted_x4resx4',\n",
              " 'predicted_x4resx4resx1',\n",
              " 'predicted_x4resx4resx1resx3']"
            ]
          },
          "metadata": {
            "tags": []
          },
          "execution_count": 11
        }
      ]
    },
    {
      "cell_type": "markdown",
      "metadata": {
        "id": "5jZSJ--jLd3a",
        "colab_type": "text"
      },
      "source": [
        "X4  --- >x2"
      ]
    },
    {
      "cell_type": "code",
      "metadata": {
        "id": "rp3Rc5CrLh9A",
        "colab_type": "code",
        "outputId": "a240be8b-9af4-455d-bd10-c2152bca7404",
        "colab": {
          "base_uri": "https://localhost:8080/",
          "height": 1000
        }
      },
      "source": [
        "causality_test(boosting([\"x2\",\"x1\",\"x3\",\"x4\"], \"x2\", 3))"
      ],
      "execution_count": 0,
      "outputs": [
        {
          "output_type": "stream",
          "text": [
            "=========this is regression round 1=========\n",
            "y is \n",
            "x2\n",
            "X are\n",
            "x2\n",
            "[0.11944973 0.76488826 0.11566201]\n",
            "the mse is\n",
            "0.8333141366146709\n",
            "regression score is\n",
            "0.42211496112936825\n",
            "explained_variance_score\n",
            "0.4221149611293683\n",
            "=========this is regression round 2=========\n",
            "y is \n",
            "x2resx2\n",
            "X are\n",
            "x1\n",
            "[0.35211085 0.34093816 0.30695099]\n",
            "the mse is\n",
            "0.6475341136645097\n",
            "regression score is\n",
            "0.22294116322673987\n",
            "explained_variance_score\n",
            "0.22294116322673985\n",
            "=========this is regression round 3=========\n",
            "y is \n",
            "x2resx2resx1\n",
            "X are\n",
            "x3\n",
            "[0.15781501 0.18595021 0.65623479]\n",
            "the mse is\n",
            "0.6707275929952561\n",
            "regression score is\n",
            "0.1947494794193434\n",
            "explained_variance_score\n",
            "0.1947494794193435\n",
            "=========this is regression round 4=========\n",
            "y is \n",
            "x2resx2resx1resx3\n",
            "X are\n",
            "x4\n",
            "[0.1801869  0.36965661 0.45015648]\n",
            "the mse is\n",
            "0.6898310847605017\n",
            "regression score is\n",
            "0.17149199838230425\n",
            "explained_variance_score\n",
            "0.17149199838230422\n",
            "------------Causalilty Test Criterias------------\n",
            "mse before adding causing variable is \n",
            "0.6707275929952561\n",
            "mse of all variables is\n",
            "0.6898310847605017\n",
            "\n",
            "!!!!!!!!!!!!!!!!!!!!!!!\n",
            "change of mse (ratio)\n",
            "nan\n",
            "!!!!!!!!!!!!!!!!!!!!!!!\n",
            "\n",
            "~~~~~~~~~~~~~~~~~\n",
            "the F-score is\n",
            "987\n",
            "3\n",
            "12\n",
            "-9.110996778215462\n",
            "the p_value is\n",
            "1.0\n",
            "~~~~~~~~~~~~~~~~~\n",
            "r_square_last is\n",
            "0.1947494794193434\n",
            "r_square_final is \n",
            "0.17149199838230425\n",
            "\n",
            "!!!!!!!!!!!!!!!!!!!!!!!\n",
            "r-square change\n",
            "0.1194225581828647\n",
            "!!!!!!!!!!!!!!!!!!!!!!!\n",
            "\n"
          ],
          "name": "stdout"
        },
        {
          "output_type": "stream",
          "text": [
            "/usr/local/lib/python3.6/dist-packages/ipykernel_launcher.py:126: RuntimeWarning: invalid value encountered in log\n"
          ],
          "name": "stderr"
        },
        {
          "output_type": "execute_result",
          "data": {
            "text/plain": [
              "['predicted_x2',\n",
              " 'predicted_x2resx2',\n",
              " 'predicted_x2resx2resx1',\n",
              " 'predicted_x2resx2resx1resx3']"
            ]
          },
          "metadata": {
            "tags": []
          },
          "execution_count": 62
        }
      ]
    },
    {
      "cell_type": "markdown",
      "metadata": {
        "id": "y7JNOMcxtzVz",
        "colab_type": "text"
      },
      "source": [
        "# Single variable decision tree with lag 3 (x1 = f(x1t-1, x1t-2, x1t-3))"
      ]
    },
    {
      "cell_type": "code",
      "metadata": {
        "id": "d1r_cUZYps-R",
        "colab_type": "code",
        "outputId": "71c46a60-87b1-4d1c-e885-f35e29522ee7",
        "colab": {
          "base_uri": "https://localhost:8080/",
          "height": 85
        }
      },
      "source": [
        "data = pd.read_csv(\"synth_data_with_header.csv\", header='infer')\n",
        "\n",
        "data[\"x1_1\"] = data.x1.shift(1)\n",
        "data[\"x1_2\"] = data.x1.shift(2)\n",
        "data[\"x1_3\"] = data.x1.shift(3)\n",
        "\n",
        "data\n",
        "#remove first 3 rows containing NaN\n",
        "data = data.iloc[3:]\n",
        "\n",
        "X = data[[\"x1_1\",\"x1_2\",\"x1_3\"]]\n",
        "x1 = data[\"x1\"]\n",
        "# data = data.iloc[3:]\n",
        "\n",
        "# print(X)\n",
        "# print(x1)\n",
        "\n",
        "reg_x1 = DecisionTreeRegressor(random_state = 0, max_depth=5)\n",
        "\n",
        "reg_x1.fit(X, x1)\n",
        "\n",
        "x1_hat = reg_x1.predict(X)\n",
        "# print(\"x1 is\")\n",
        "# print(x1)\n",
        "# print(\"x1_hat is\")\n",
        "# print(x1_hat)\n",
        "# print(x1_hat.size)\n",
        "# print(X.size)\n",
        "\n",
        "# print(data)\n",
        "\n",
        "print(reg_x1.feature_importances_)\n",
        "\n",
        "print(reg_x1.score(X,x1))\n",
        "\n",
        "# print(X)\n",
        "# print(x1)\n",
        "\n",
        "print(\"=====\")\n",
        "print(mean_squared_error(x1, x1_hat))\n"
      ],
      "execution_count": 0,
      "outputs": [
        {
          "output_type": "stream",
          "text": [
            "[0.58845279 0.01350344 0.39804377]\n",
            "0.8596096303862996\n",
            "=====\n",
            "1.4465573363903832\n"
          ],
          "name": "stdout"
        }
      ]
    },
    {
      "cell_type": "code",
      "metadata": {
        "id": "0Fi09Yn3qwlt",
        "colab_type": "code",
        "outputId": "ce3b8ad0-f490-4fe1-ae42-bf7cd96bcb93",
        "colab": {
          "base_uri": "https://localhost:8080/",
          "height": 295
        }
      },
      "source": [
        "plt.figure()\n",
        "plt.plot(X, x1, c=\"k\", label=\"training samples\", linewidth=2)\n",
        "plt.plot(X, x1_hat, c=\"r\", label=\"DecisionTree\", linewidth=1)\n",
        "# plt.plot(X, y2_hat, c=\"b\", label=\"Ada\", linewidth=2)\n",
        "\n",
        "plt.xlabel(\"data\")\n",
        "plt.ylabel(\"target\")\n",
        "plt.title(\"Decision Tree Regression\")\n",
        "plt.legend()\n",
        "plt.show()"
      ],
      "execution_count": 0,
      "outputs": [
        {
          "output_type": "display_data",
          "data": {
            "image/png": "[encoded data removed]",
            "text/plain": [
              "<Figure size 432x288 with 1 Axes>"
            ]
          },
          "metadata": {
            "tags": []
          }
        }
      ]
    }
  ]
}