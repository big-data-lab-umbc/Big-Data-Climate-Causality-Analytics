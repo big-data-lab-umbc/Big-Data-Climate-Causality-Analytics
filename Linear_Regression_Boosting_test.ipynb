{
  "nbformat": 4,
  "nbformat_minor": 0,
  "metadata": {
    "colab": {
      "name": "Linear_Regression_Boosting_test.ipynb",
      "version": "0.3.2",
      "provenance": [],
      "collapsed_sections": []
    },
    "kernelspec": {
      "name": "python3",
      "display_name": "Python 3"
    }
  },
  "cells": [
    {
      "cell_type": "code",
      "metadata": {
        "id": "Hzu1vStkixyL",
        "colab_type": "code",
        "colab": {}
      },
      "source": [
        "import sklearn\n",
        "sklearn.__version__\n",
        "import scipy\n",
        "import numpy as np\n",
        "import pandas as pd\n",
        "from sklearn.linear_model import LinearRegression\n",
        "import matplotlib.pyplot as plt\n",
        "from sklearn.metrics import mean_squared_error,r2_score,explained_variance_score\n",
        "from graphviz import Digraph\n",
        "# import scipy.stats.f"
      ],
      "execution_count": 0,
      "outputs": []
    },
    {
      "cell_type": "code",
      "metadata": {
        "id": "fHaKmHRrkFf8",
        "colab_type": "code",
        "outputId": "cea6c4bd-5add-4263-a2ff-e2b7ad609f06",
        "colab": {
          "base_uri": "https://localhost:8080/",
          "height": 51
        }
      },
      "source": [
        "df = pd.read_csv(\"synth_data_with_header.csv\", header='infer')\n",
        "# n: number of observations\n",
        "n = df.shape[0]\n",
        "k = df.shape[1]\n",
        "print(n)\n",
        "print(k)\n"
      ],
      "execution_count": 0,
      "outputs": [
        {
          "output_type": "stream",
          "text": [
            "999\n",
            "4\n"
          ],
          "name": "stdout"
        }
      ]
    },
    {
      "cell_type": "code",
      "metadata": {
        "id": "7G5LKEm-ifjy",
        "colab_type": "code",
        "colab": {}
      },
      "source": [
        "def regression(df, x_name, y_name, maxlag):\n",
        "    data = df\n",
        "    df_list = []     \n",
        "    \n",
        "    # add lagged columns of current x variable as x_name\n",
        "    for lag in range(1,maxlag+1):\n",
        "        data['{}_{}'.format(x_name,str(lag))] = data['{}'.format(x_name)].shift(lag)\n",
        "        df_list.append(data['{}_{}'.format(x_name,str(lag))])\n",
        "\n",
        "    # create test dataframe X, and y\n",
        "    X = pd.concat(df_list,axis = 1)  \n",
        "    y = data[y_name]\n",
        "\n",
        "    # remove NaN rows, the number of removal is maxlag\n",
        "    X = X.iloc[maxlag:]\n",
        "    y = y.iloc[maxlag:]\n",
        "\n",
        "    # build regression reg_y, X→y\n",
        "    reg_y = LinearRegression()\n",
        "    # fit model using data X, y\n",
        "    reg_y.fit(X, y)\n",
        "    # check number of features\n",
        "#     print(reg_y.n_features_)\n",
        "    # check feature importance \n",
        "#     print(reg_y.feature_importances_)\n",
        "\n",
        "    # y_hat is the predicted value of y\n",
        "    y_hat = reg_y.predict(X) \n",
        "\n",
        "    # save predicted y_hat as a pd dataframe and move its index to match the place in original df\n",
        "    y_hat_df = pd.DataFrame(y_hat)\n",
        "    y_hat_df.index += maxlag\n",
        "    # save the predicted value into dataframe\n",
        "    data['predicted_{}'.format(y_name)] = y_hat_df  \n",
        "\n",
        "    # compuate mse\n",
        "    reg_mse = mean_squared_error(y,y_hat)\n",
        "    # compute residual value of y, y-y_hat, the residual value is the y in next round of loop\n",
        "    y_residual = y - y_hat\n",
        "    data[\"{}res{}\".format(y_name,x_name)] = y_residual\n",
        "\n",
        "    # print mse, r^2, variance\n",
        "    print(\"the mse is\")\n",
        "    print(reg_mse)\n",
        "    print(\"regression score is\")\n",
        "#     print(r2_score(data['{}'.format(y_name)].iloc[3:], data['predicted_{}'.format(y_name)].iloc[3:]))\n",
        "    # score is the r2_score, same results\n",
        "    print(reg_y.score(X,y))\n",
        "    r2 = reg_y.score(X,y)\n",
        "#     print(\"var_reg is\")\n",
        "  #   print(df['predicted_{}'.format(y_name)].var(ddof=0))\n",
        "#     var_reg = df['predicted_{}'.format(y_name)].var(ddof=0)  \n",
        "\n",
        "    #print explained_variance_score\n",
        "    print(\"explained_variance_score\")\n",
        "    variance_score = explained_variance_score(y,y_hat)\n",
        "    print(variance_score)\n",
        "\n",
        "    return reg_mse,reg_y.score(X,y),variance_score,r2\n",
        "\n",
        "\n",
        "def boosting(x_list, y_name, maxlag):\n",
        "  \n",
        "    # loop through each variable in the list\n",
        "    temp_y_name = y_name\n",
        "    mse_arr = []\n",
        "    r2_arr = []\n",
        "    \n",
        "    predicted_name_list = []\n",
        "    \n",
        "    for pivot_x in range(0,len(x_list)):\n",
        "        print(\"=========this is regression round {}=========\".format(pivot_x+1))\n",
        "\n",
        "        # save return value of regression in res_list\n",
        "        res_list = regression(df, x_list[pivot_x],y_name,3)  \n",
        "        \n",
        "        # save predicted column name as a list\n",
        "        predicted_name_list.append('predicted_{}'.format(y_name))\n",
        "        \n",
        "        # build y_name such as x1resx1, which means x1 substacts x1_hat, res means residual\n",
        "        y_name = str(y_name) +\"res\"+ str(x_list[pivot_x])\n",
        "        \n",
        "        # example: [0.7614110755692759, 0.6019695603895466, 0.4941602516989991, 0.36284165024184334]\n",
        "        mse_arr.append(res_list[0])\n",
        "        r2_arr.append(res_list[3])\n",
        "    \n",
        "    return mse_arr,predicted_name_list,r2_arr,maxlag\n",
        "\n",
        "\n",
        "def causality_test(boosting_result_list):\n",
        "    \n",
        "    mse_arr = boosting_result_list[0]\n",
        "    name_list = boosting_result_list[1]\n",
        "    r2_arr =  boosting_result_list[2]\n",
        "    maxlag = boosting_result_list[3]\n",
        "    \n",
        "    print('------------Causalilty Test Criterias------------')\n",
        "    \n",
        "    # mse_y means the mse to predict y using all other varaibles except for the causing variable\n",
        "\n",
        "    mse_y = mse_arr[len(mse_arr)-2]\n",
        "#     print(mse_arr[len(mse_arr)-1])\n",
        "    mse_all = mse_arr[len(mse_arr)-1]\n",
        "\n",
        "    print(\"mse before adding causing variable is \")\n",
        "    print(mse_y)\n",
        "    print(\"mse of all variables is\")\n",
        "    print(mse_all)\n",
        "    print(\"\\n!!!!!!!!!!!!!!!!!!!!!!!\")\n",
        "    print(\"change of mse -> np.log(mse_change)\")\n",
        "    mse_change = mse_y/mse_all\n",
        "#     mse_change = ((mse_y-mse_all)/(3-2))/(mse_all/(999-3))\n",
        "    \n",
        "    print(np.log(mse_change))\n",
        "    print(\"!!!!!!!!!!!!!!!!!!!!!!!\\n\")\n",
        "    \n",
        "    \n",
        "    print(\"~~~~~~~~~~~~~~~~~\")\n",
        "    print(\"the F-score is\")\n",
        "    f_score = ((mse_y-mse_all)/mse_all)*((n-k*maxlag)/maxlag)\n",
        "    print(n-k*maxlag)\n",
        "    print(maxlag)\n",
        "    print(k*maxlag)\n",
        "    print(f_score)\n",
        "    p_value = scipy.stats.f.sf(f_score, maxlag, n-k*maxlag)\n",
        "    print(\"the p_value is\")\n",
        "    print(p_value)\n",
        "    print(\"~~~~~~~~~~~~~~~~~\")\n",
        "    \n",
        "    \n",
        "    df['pred_y'] = df[name_list[0]]\n",
        "    for key in range(1, len(name_list)):\n",
        "        df['pred_y'] += df[name_list[key]]\n",
        "\n",
        "    df['last_step'] = df['pred_y'] - df[name_list[len(name_list)-1]]\n",
        "\n",
        "    # df['step_3'] = df['predicted_x3'] + df['predicted_x3resx3'] + df['predicted_x3resx3resx4']\n",
        "\n",
        "    r2_y = r2_arr[len(r2_arr)-2]\n",
        "#     print(mse_arr[len(mse_arr)-1])\n",
        "    r2_all = r2_arr[len(r2_arr)-1]\n",
        "  \n",
        "    print(\"r_square_last is\")\n",
        "    print(r2_y)\n",
        "    print(\"r_square_final is \")\n",
        "    print(r2_all)\n",
        "    print(\"\\n!!!!!!!!!!!!!!!!!!!!!!!\")\n",
        "    print(\"r-square change\")\n",
        "    r_square_change = abs(r2_all-r2_y)/r2_y\n",
        "    print(r_square_change)\n",
        "    print(\"!!!!!!!!!!!!!!!!!!!!!!!\\n\")\n",
        "    \n",
        "    \n",
        "#     # draw graph if var_change >0.05  -- to do\n",
        "#     if var_change > 0.05:\n",
        "#         g.edge(,,label = \" {} \".format(temp_lag))\n",
        "\n",
        "    return name_list\n",
        "\n"
      ],
      "execution_count": 0,
      "outputs": []
    },
    {
      "cell_type": "markdown",
      "metadata": {
        "id": "SyFAWAOCHxKk",
        "colab_type": "text"
      },
      "source": [
        "shoud exist: x1→x3"
      ]
    },
    {
      "cell_type": "code",
      "metadata": {
        "id": "CHExKqXkkzVS",
        "colab_type": "code",
        "outputId": "32ed0818-f8c2-4353-fa09-d76fb9f415e6",
        "colab": {
          "base_uri": "https://localhost:8080/",
          "height": 1000
        }
      },
      "source": [
        "causality_test(boosting([\"x3\",\"x4\",\"x2\",\"x1\"], \"x3\", 3))\n"
      ],
      "execution_count": 0,
      "outputs": [
        {
          "output_type": "stream",
          "text": [
            "=========this is regression round 1=========\n",
            "the mse is\n",
            "2.1734065535202913\n",
            "regression score is\n",
            "0.6125020174009941\n",
            "explained_variance_score\n",
            "0.6125020174009941\n",
            "=========this is regression round 2=========\n",
            "the mse is\n",
            "2.1593844062611676\n",
            "regression score is\n",
            "0.0064516908888545554\n",
            "explained_variance_score\n",
            "0.0064516908888545554\n",
            "=========this is regression round 3=========\n",
            "the mse is\n",
            "1.8986410956216886\n",
            "regression score is\n",
            "0.12074890875540722\n",
            "explained_variance_score\n",
            "0.12074890875540722\n",
            "=========this is regression round 4=========\n",
            "the mse is\n",
            "1.3893607050990195\n",
            "regression score is\n",
            "0.26823415531091244\n",
            "explained_variance_score\n",
            "0.26823415531091244\n",
            "------------Causalilty Test Criterias------------\n",
            "mse before adding causing variable is \n",
            "1.8986410956216886\n",
            "mse of all variables is\n",
            "1.3893607050990195\n",
            "\n",
            "!!!!!!!!!!!!!!!!!!!!!!!\n",
            "change of mse -> np.log(mse_change)\n",
            "0.31229470049924835\n",
            "!!!!!!!!!!!!!!!!!!!!!!!\n",
            "\n",
            "~~~~~~~~~~~~~~~~~\n",
            "the F-score is\n",
            "987\n",
            "3\n",
            "12\n",
            "120.5973710549246\n",
            "the p_value is\n",
            "1.5223940229239123e-66\n",
            "~~~~~~~~~~~~~~~~~\n",
            "r_square_last is\n",
            "0.12074890875540722\n",
            "r_square_final is \n",
            "0.26823415531091244\n",
            "\n",
            "!!!!!!!!!!!!!!!!!!!!!!!\n",
            "r-square change\n",
            "1.221420947614988\n",
            "!!!!!!!!!!!!!!!!!!!!!!!\n",
            "\n"
          ],
          "name": "stdout"
        },
        {
          "output_type": "execute_result",
          "data": {
            "text/plain": [
              "['predicted_x3',\n",
              " 'predicted_x3resx3',\n",
              " 'predicted_x3resx3resx4',\n",
              " 'predicted_x3resx3resx4resx2']"
            ]
          },
          "metadata": {
            "tags": []
          },
          "execution_count": 22
        }
      ]
    },
    {
      "cell_type": "markdown",
      "metadata": {
        "id": "-gPfRw9_Hz75",
        "colab_type": "text"
      },
      "source": [
        "shouldn't exist: x3→x1"
      ]
    },
    {
      "cell_type": "code",
      "metadata": {
        "id": "7Qlb2LVxH26y",
        "colab_type": "code",
        "outputId": "8b173d42-9619-47da-c917-19811dc02427",
        "colab": {
          "base_uri": "https://localhost:8080/",
          "height": 1000
        }
      },
      "source": [
        "causality_test(boosting([\"x1\",\"x4\",\"x2\",\"x3\"], \"x1\", 3))\n"
      ],
      "execution_count": 0,
      "outputs": [
        {
          "output_type": "stream",
          "text": [
            "=========this is regression round 1=========\n",
            "the mse is\n",
            "1.0027648849710222\n",
            "regression score is\n",
            "0.8991914094015558\n",
            "explained_variance_score\n",
            "0.899191409401556\n",
            "=========this is regression round 2=========\n",
            "the mse is\n",
            "1.0009588237947507\n",
            "regression score is\n",
            "0.0018010813933955205\n",
            "explained_variance_score\n",
            "0.0018010813933954095\n",
            "=========this is regression round 3=========\n",
            "the mse is\n",
            "0.9977630608092803\n",
            "regression score is\n",
            "0.0031927017470656516\n",
            "explained_variance_score\n",
            "0.0031927017470656516\n",
            "=========this is regression round 4=========\n",
            "the mse is\n",
            "0.9951017652357406\n",
            "regression score is\n",
            "0.0026672620766109434\n",
            "explained_variance_score\n",
            "0.0026672620766108324\n",
            "------------Causalilty Test Criterias------------\n",
            "mse before adding causing variable is \n",
            "0.9977630608092803\n",
            "mse of all variables is\n",
            "0.9951017652357406\n",
            "\n",
            "!!!!!!!!!!!!!!!!!!!!!!!\n",
            "change of mse -> np.log(mse_change)\n",
            "0.0026708255580065493\n",
            "!!!!!!!!!!!!!!!!!!!!!!!\n",
            "\n",
            "~~~~~~~~~~~~~~~~~\n",
            "the F-score is\n",
            "987\n",
            "3\n",
            "12\n",
            "0.8798760833141169\n",
            "the p_value is\n",
            "0.45096371300371685\n",
            "~~~~~~~~~~~~~~~~~\n",
            "r_square_last is\n",
            "0.0031927017470656516\n",
            "r_square_final is \n",
            "0.0026672620766109434\n",
            "\n",
            "!!!!!!!!!!!!!!!!!!!!!!!\n",
            "r-square change\n",
            "0.16457524444230637\n",
            "!!!!!!!!!!!!!!!!!!!!!!!\n",
            "\n"
          ],
          "name": "stdout"
        },
        {
          "output_type": "execute_result",
          "data": {
            "text/plain": [
              "['predicted_x1',\n",
              " 'predicted_x1resx1',\n",
              " 'predicted_x1resx1resx4',\n",
              " 'predicted_x1resx1resx4resx2']"
            ]
          },
          "metadata": {
            "tags": []
          },
          "execution_count": 23
        }
      ]
    },
    {
      "cell_type": "markdown",
      "metadata": {
        "id": "U7VVjPqakwhj",
        "colab_type": "text"
      },
      "source": [
        "shoud not exist: x4→x1"
      ]
    },
    {
      "cell_type": "code",
      "metadata": {
        "id": "o-IYLHUlkzkb",
        "colab_type": "code",
        "outputId": "78ce526d-b793-4afb-b0fd-8b9d5d86275d",
        "colab": {
          "base_uri": "https://localhost:8080/",
          "height": 1000
        }
      },
      "source": [
        "causality_test(boosting([\"x4\",\"x3\",\"x2\",\"x1\"], \"x4\", 3))"
      ],
      "execution_count": 0,
      "outputs": [
        {
          "output_type": "stream",
          "text": [
            "=========this is regression round 1=========\n",
            "the mse is\n",
            "1.4933491125802614\n",
            "regression score is\n",
            "0.9026368010369424\n",
            "explained_variance_score\n",
            "0.9026368010369424\n",
            "=========this is regression round 2=========\n",
            "the mse is\n",
            "1.0190131800383022\n",
            "regression score is\n",
            "0.3176323128637918\n",
            "explained_variance_score\n",
            "0.3176323128637917\n",
            "=========this is regression round 3=========\n",
            "the mse is\n",
            "1.016692066935972\n",
            "regression score is\n",
            "0.0022778047897701326\n",
            "explained_variance_score\n",
            "0.0022778047897701326\n",
            "=========this is regression round 4=========\n",
            "the mse is\n",
            "1.0158701253737694\n",
            "regression score is\n",
            "0.0008084469122295879\n",
            "explained_variance_score\n",
            "0.0008084469122294768\n",
            "------------Causalilty Test Criterias------------\n",
            "mse before adding causing variable is \n",
            "1.016692066935972\n",
            "mse of all variables is\n",
            "1.0158701253737694\n",
            "\n",
            "!!!!!!!!!!!!!!!!!!!!!!!\n",
            "change of mse -> np.log(mse_change)\n",
            "0.0008087738816713564\n",
            "!!!!!!!!!!!!!!!!!!!!!!!\n",
            "\n",
            "~~~~~~~~~~~~~~~~~\n",
            "the F-score is\n",
            "987\n",
            "3\n",
            "12\n",
            "0.26619423803329545\n",
            "the p_value is\n",
            "0.8497865577880883\n",
            "~~~~~~~~~~~~~~~~~\n",
            "r_square_last is\n",
            "0.0022778047897701326\n",
            "r_square_final is \n",
            "0.0008084469122295879\n",
            "\n",
            "!!!!!!!!!!!!!!!!!!!!!!!\n",
            "r-square change\n",
            "0.64507629632688\n",
            "!!!!!!!!!!!!!!!!!!!!!!!\n",
            "\n"
          ],
          "name": "stdout"
        },
        {
          "output_type": "execute_result",
          "data": {
            "text/plain": [
              "['predicted_x4',\n",
              " 'predicted_x4resx4',\n",
              " 'predicted_x4resx4resx3',\n",
              " 'predicted_x4resx4resx3resx2']"
            ]
          },
          "metadata": {
            "tags": []
          },
          "execution_count": 26
        }
      ]
    },
    {
      "cell_type": "markdown",
      "metadata": {
        "id": "9yREOf2olE5D",
        "colab_type": "text"
      },
      "source": [
        "should exist x3→x4"
      ]
    },
    {
      "cell_type": "code",
      "metadata": {
        "id": "H8pMmNbLk9ZL",
        "colab_type": "code",
        "outputId": "1b3eef90-4111-4f70-901e-1b58645ee87b",
        "colab": {
          "base_uri": "https://localhost:8080/",
          "height": 1000
        }
      },
      "source": [
        "causality_test(boosting([\"x4\",\"x1\",\"x2\",\"x3\"], \"x4\", 3))"
      ],
      "execution_count": 0,
      "outputs": [
        {
          "output_type": "stream",
          "text": [
            "=========this is regression round 1=========\n",
            "the mse is\n",
            "1.4949793456809346\n",
            "regression score is\n",
            "0.9029283078383323\n",
            "explained_variance_score\n",
            "0.9029283078383323\n",
            "=========this is regression round 2=========\n",
            "the mse is\n",
            "1.1710344867473235\n",
            "regression score is\n",
            "0.21668851805177317\n",
            "explained_variance_score\n",
            "0.21668851805177314\n",
            "=========this is regression round 3=========\n",
            "the mse is\n",
            "1.1406118754690402\n",
            "regression score is\n",
            "0.025979261603802373\n",
            "explained_variance_score\n",
            "0.025979261603802484\n",
            "=========this is regression round 4=========\n",
            "the mse is\n",
            "1.0972610834166792\n",
            "regression score is\n",
            "0.03800661117484361\n",
            "explained_variance_score\n",
            "0.03800661117484372\n",
            "------------Causalilty Test Criterias------------\n",
            "mse before adding causing variable is \n",
            "1.1406118754690402\n",
            "mse of all variables is\n",
            "1.0972610834166792\n",
            "\n",
            "!!!!!!!!!!!!!!!!!!!!!!!\n",
            "change of mse -> np.log(mse_change)\n",
            "0.03874770066316748\n",
            "!!!!!!!!!!!!!!!!!!!!!!!\n",
            "\n",
            "~~~~~~~~~~~~~~~~~\n",
            "the F-score is\n",
            "987\n",
            "3\n",
            "12\n",
            "12.998192317926858\n",
            "the p_value is\n",
            "2.4859939343987365e-08\n",
            "~~~~~~~~~~~~~~~~~\n",
            "r_square_last is\n",
            "0.025979261603802373\n",
            "r_square_final is \n",
            "0.03800661117484361\n",
            "\n",
            "!!!!!!!!!!!!!!!!!!!!!!!\n",
            "r-square change\n",
            "0.46295963890216535\n",
            "!!!!!!!!!!!!!!!!!!!!!!!\n",
            "\n"
          ],
          "name": "stdout"
        },
        {
          "output_type": "execute_result",
          "data": {
            "text/plain": [
              "['predicted_x4',\n",
              " 'predicted_x4resx4',\n",
              " 'predicted_x4resx4resx1',\n",
              " 'predicted_x4resx4resx1resx2']"
            ]
          },
          "metadata": {
            "tags": []
          },
          "execution_count": 30
        }
      ]
    },
    {
      "cell_type": "code",
      "metadata": {
        "id": "fYfOyCF5u9wv",
        "colab_type": "code",
        "outputId": "22987505-8079-47c8-8613-71f689dccd6c",
        "colab": {
          "base_uri": "https://localhost:8080/",
          "height": 85
        }
      },
      "source": [
        "# df = pd.read_csv(\"synth_data_with_header.csv\", header='infer')\n",
        "# df['x1_1'] = df['x1'].shift(1)\n",
        "\n",
        "# df\n",
        "\n",
        "# # regression() \n",
        "\n",
        "df = df.iloc[3:]\n",
        "# df\n",
        "\n",
        "X = df[['x1_1','x2_1','x3_1','x4_1','x1_2','x2_2','x3_2','x4_2','x1_3','x2_3','x3_3','x4_3']]\n",
        "y = df['x4']\n",
        "maxlag=3\n",
        "\n",
        "data = df\n",
        "y_name = 'x4'\n",
        "\n",
        "# build regression reg_y, X→y\n",
        "reg_y = LinearRegression()\n",
        "# fit model using data X, y\n",
        "reg_y.fit(X, y)\n",
        "# check number of features\n",
        "#     print(reg_y.n_features_)\n",
        "# check feature importance \n",
        "#     print(reg_y.feature_importances_)\n",
        "\n",
        "# y_hat is the predicted value of y\n",
        "y_hat = reg_y.predict(X) \n",
        "\n",
        "# save predicted y_hat as a pd dataframe and move its index to match the place in original df\n",
        "y_hat_df = pd.DataFrame(y_hat)\n",
        "y_hat_df.index += maxlag\n",
        "# save the predicted value into dataframe\n",
        "\n",
        "# compuate mse\n",
        "reg_mse = mean_squared_error(y,y_hat)\n",
        "# compute residual value of y, y-y_hat, the residual value is the y in next round of loop\n",
        "y_residual = y - y_hat\n",
        "\n",
        "# print mse, r^2, variance\n",
        "print(\"the mse is\")\n",
        "print(reg_mse)\n",
        "print(\"regression score is\")\n",
        "#     print(r2_score(data['{}'.format(y_name)].iloc[3:], data['predicted_{}'.format(y_name)].iloc[3:]))\n",
        "# score is the r2_score, same results\n",
        "print(reg_y.score(X,y))"
      ],
      "execution_count": 0,
      "outputs": [
        {
          "output_type": "stream",
          "text": [
            "the mse is\n",
            "0.9353482940775073\n",
            "regression score is\n",
            "0.9392661564663444\n"
          ],
          "name": "stdout"
        }
      ]
    }
  ]
}